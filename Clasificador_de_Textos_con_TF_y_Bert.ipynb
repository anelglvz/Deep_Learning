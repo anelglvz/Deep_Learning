{
  "nbformat": 4,
  "nbformat_minor": 0,
  "metadata": {
    "colab": {
      "provenance": [],
      "include_colab_link": true
    },
    "kernelspec": {
      "name": "python3",
      "display_name": "Python 3"
    },
    "language_info": {
      "name": "python"
    },
    "accelerator": "GPU"
  },
  "cells": [
    {
      "cell_type": "markdown",
      "metadata": {
        "id": "view-in-github",
        "colab_type": "text"
      },
      "source": [
        "<a href=\"https://colab.research.google.com/github/anelglvz/Deep_Learning/blob/main/Clasificador_de_Textos_con_TF_y_Bert.ipynb\" target=\"_parent\"><img src=\"https://colab.research.google.com/assets/colab-badge.svg\" alt=\"Open In Colab\"/></a>"
      ]
    },
    {
      "cell_type": "markdown",
      "source": [
        "#Clasificador de Textos con TF y Bert"
      ],
      "metadata": {
        "id": "FMs4y7HZdV-W"
      }
    },
    {
      "cell_type": "markdown",
      "source": [
        "https://playground.tensorflow.org/#activation=sigmoid&batchSize=10&dataset=xor&regDataset=reg-plane&learningRate=0.03&regularizationRate=0&noise=0&networkShape=3&seed=0.86239&showTestData=false&discretize=false&percTrainData=50&x=true&y=true&xTimesY=false&xSquared=false&ySquared=false&cosX=false&sinX=false&cosY=false&sinY=false&collectStats=false&problem=classification&initZero=false&hideText=false"
      ],
      "metadata": {
        "id": "2t2ptCTEmrWg"
      }
    },
    {
      "cell_type": "markdown",
      "metadata": {
        "id": "-URr6ioO31Je"
      },
      "source": [
        "## Cargar Bibliotecas"
      ]
    },
    {
      "cell_type": "code",
      "metadata": {
        "id": "KXjUiWkiUQQA",
        "colab": {
          "base_uri": "https://localhost:8080/"
        },
        "outputId": "09dd8657-4fb0-4cc4-b35f-ac83cc1f03f1"
      },
      "source": [
        "import numpy as np\n",
        "import pandas as pd\n",
        "import re\n",
        "\n",
        "import nltk\n",
        "from nltk.corpus import stopwords\n",
        "from nltk.stem import PorterStemmer\n",
        "\n",
        "from sklearn.feature_extraction.text import TfidfVectorizer\n",
        "from sklearn.model_selection import train_test_split\n",
        "\n",
        "from sklearn.metrics import mean_squared_error\n",
        "from sklearn import metrics\n",
        "from sklearn.metrics import roc_curve\n",
        "from sklearn.metrics import roc_auc_score\n",
        "\n",
        "\n",
        "\n",
        "nltk.download('stopwords')"
      ],
      "execution_count": null,
      "outputs": [
        {
          "output_type": "stream",
          "name": "stderr",
          "text": [
            "[nltk_data] Downloading package stopwords to /root/nltk_data...\n",
            "[nltk_data]   Unzipping corpora/stopwords.zip.\n"
          ]
        },
        {
          "output_type": "execute_result",
          "data": {
            "text/plain": [
              "True"
            ]
          },
          "metadata": {},
          "execution_count": 1
        }
      ]
    },
    {
      "cell_type": "code",
      "source": [
        "stopwords.words()"
      ],
      "metadata": {
        "id": "m0vn4zVHRA1V",
        "colab": {
          "base_uri": "https://localhost:8080/"
        },
        "outputId": "f231eaec-e536-451f-b3ff-abd4451168cc"
      },
      "execution_count": null,
      "outputs": [
        {
          "output_type": "execute_result",
          "data": {
            "text/plain": [
              "['إذ',\n",
              " 'إذا',\n",
              " 'إذما',\n",
              " 'إذن',\n",
              " 'أف',\n",
              " 'أقل',\n",
              " 'أكثر',\n",
              " 'ألا',\n",
              " 'إلا',\n",
              " 'التي',\n",
              " 'الذي',\n",
              " 'الذين',\n",
              " 'اللاتي',\n",
              " 'اللائي',\n",
              " 'اللتان',\n",
              " 'اللتيا',\n",
              " 'اللتين',\n",
              " 'اللذان',\n",
              " 'اللذين',\n",
              " 'اللواتي',\n",
              " 'إلى',\n",
              " 'إليك',\n",
              " 'إليكم',\n",
              " 'إليكما',\n",
              " 'إليكن',\n",
              " 'أم',\n",
              " 'أما',\n",
              " 'أما',\n",
              " 'إما',\n",
              " 'أن',\n",
              " 'إن',\n",
              " 'إنا',\n",
              " 'أنا',\n",
              " 'أنت',\n",
              " 'أنتم',\n",
              " 'أنتما',\n",
              " 'أنتن',\n",
              " 'إنما',\n",
              " 'إنه',\n",
              " 'أنى',\n",
              " 'أنى',\n",
              " 'آه',\n",
              " 'آها',\n",
              " 'أو',\n",
              " 'أولاء',\n",
              " 'أولئك',\n",
              " 'أوه',\n",
              " 'آي',\n",
              " 'أي',\n",
              " 'أيها',\n",
              " 'إي',\n",
              " 'أين',\n",
              " 'أين',\n",
              " 'أينما',\n",
              " 'إيه',\n",
              " 'بخ',\n",
              " 'بس',\n",
              " 'بعد',\n",
              " 'بعض',\n",
              " 'بك',\n",
              " 'بكم',\n",
              " 'بكم',\n",
              " 'بكما',\n",
              " 'بكن',\n",
              " 'بل',\n",
              " 'بلى',\n",
              " 'بما',\n",
              " 'بماذا',\n",
              " 'بمن',\n",
              " 'بنا',\n",
              " 'به',\n",
              " 'بها',\n",
              " 'بهم',\n",
              " 'بهما',\n",
              " 'بهن',\n",
              " 'بي',\n",
              " 'بين',\n",
              " 'بيد',\n",
              " 'تلك',\n",
              " 'تلكم',\n",
              " 'تلكما',\n",
              " 'ته',\n",
              " 'تي',\n",
              " 'تين',\n",
              " 'تينك',\n",
              " 'ثم',\n",
              " 'ثمة',\n",
              " 'حاشا',\n",
              " 'حبذا',\n",
              " 'حتى',\n",
              " 'حيث',\n",
              " 'حيثما',\n",
              " 'حين',\n",
              " 'خلا',\n",
              " 'دون',\n",
              " 'ذا',\n",
              " 'ذات',\n",
              " 'ذاك',\n",
              " 'ذان',\n",
              " 'ذانك',\n",
              " 'ذلك',\n",
              " 'ذلكم',\n",
              " 'ذلكما',\n",
              " 'ذلكن',\n",
              " 'ذه',\n",
              " 'ذو',\n",
              " 'ذوا',\n",
              " 'ذواتا',\n",
              " 'ذواتي',\n",
              " 'ذي',\n",
              " 'ذين',\n",
              " 'ذينك',\n",
              " 'ريث',\n",
              " 'سوف',\n",
              " 'سوى',\n",
              " 'شتان',\n",
              " 'عدا',\n",
              " 'عسى',\n",
              " 'عل',\n",
              " 'على',\n",
              " 'عليك',\n",
              " 'عليه',\n",
              " 'عما',\n",
              " 'عن',\n",
              " 'عند',\n",
              " 'غير',\n",
              " 'فإذا',\n",
              " 'فإن',\n",
              " 'فلا',\n",
              " 'فمن',\n",
              " 'في',\n",
              " 'فيم',\n",
              " 'فيما',\n",
              " 'فيه',\n",
              " 'فيها',\n",
              " 'قد',\n",
              " 'كأن',\n",
              " 'كأنما',\n",
              " 'كأي',\n",
              " 'كأين',\n",
              " 'كذا',\n",
              " 'كذلك',\n",
              " 'كل',\n",
              " 'كلا',\n",
              " 'كلاهما',\n",
              " 'كلتا',\n",
              " 'كلما',\n",
              " 'كليكما',\n",
              " 'كليهما',\n",
              " 'كم',\n",
              " 'كم',\n",
              " 'كما',\n",
              " 'كي',\n",
              " 'كيت',\n",
              " 'كيف',\n",
              " 'كيفما',\n",
              " 'لا',\n",
              " 'لاسيما',\n",
              " 'لدى',\n",
              " 'لست',\n",
              " 'لستم',\n",
              " 'لستما',\n",
              " 'لستن',\n",
              " 'لسن',\n",
              " 'لسنا',\n",
              " 'لعل',\n",
              " 'لك',\n",
              " 'لكم',\n",
              " 'لكما',\n",
              " 'لكن',\n",
              " 'لكنما',\n",
              " 'لكي',\n",
              " 'لكيلا',\n",
              " 'لم',\n",
              " 'لما',\n",
              " 'لن',\n",
              " 'لنا',\n",
              " 'له',\n",
              " 'لها',\n",
              " 'لهم',\n",
              " 'لهما',\n",
              " 'لهن',\n",
              " 'لو',\n",
              " 'لولا',\n",
              " 'لوما',\n",
              " 'لي',\n",
              " 'لئن',\n",
              " 'ليت',\n",
              " 'ليس',\n",
              " 'ليسا',\n",
              " 'ليست',\n",
              " 'ليستا',\n",
              " 'ليسوا',\n",
              " 'ما',\n",
              " 'ماذا',\n",
              " 'متى',\n",
              " 'مذ',\n",
              " 'مع',\n",
              " 'مما',\n",
              " 'ممن',\n",
              " 'من',\n",
              " 'منه',\n",
              " 'منها',\n",
              " 'منذ',\n",
              " 'مه',\n",
              " 'مهما',\n",
              " 'نحن',\n",
              " 'نحو',\n",
              " 'نعم',\n",
              " 'ها',\n",
              " 'هاتان',\n",
              " 'هاته',\n",
              " 'هاتي',\n",
              " 'هاتين',\n",
              " 'هاك',\n",
              " 'هاهنا',\n",
              " 'هذا',\n",
              " 'هذان',\n",
              " 'هذه',\n",
              " 'هذي',\n",
              " 'هذين',\n",
              " 'هكذا',\n",
              " 'هل',\n",
              " 'هلا',\n",
              " 'هم',\n",
              " 'هما',\n",
              " 'هن',\n",
              " 'هنا',\n",
              " 'هناك',\n",
              " 'هنالك',\n",
              " 'هو',\n",
              " 'هؤلاء',\n",
              " 'هي',\n",
              " 'هيا',\n",
              " 'هيت',\n",
              " 'هيهات',\n",
              " 'والذي',\n",
              " 'والذين',\n",
              " 'وإذ',\n",
              " 'وإذا',\n",
              " 'وإن',\n",
              " 'ولا',\n",
              " 'ولكن',\n",
              " 'ولو',\n",
              " 'وما',\n",
              " 'ومن',\n",
              " 'وهو',\n",
              " 'يا',\n",
              " 'أبٌ',\n",
              " 'أخٌ',\n",
              " 'حمٌ',\n",
              " 'فو',\n",
              " 'أنتِ',\n",
              " 'يناير',\n",
              " 'فبراير',\n",
              " 'مارس',\n",
              " 'أبريل',\n",
              " 'مايو',\n",
              " 'يونيو',\n",
              " 'يوليو',\n",
              " 'أغسطس',\n",
              " 'سبتمبر',\n",
              " 'أكتوبر',\n",
              " 'نوفمبر',\n",
              " 'ديسمبر',\n",
              " 'جانفي',\n",
              " 'فيفري',\n",
              " 'مارس',\n",
              " 'أفريل',\n",
              " 'ماي',\n",
              " 'جوان',\n",
              " 'جويلية',\n",
              " 'أوت',\n",
              " 'كانون',\n",
              " 'شباط',\n",
              " 'آذار',\n",
              " 'نيسان',\n",
              " 'أيار',\n",
              " 'حزيران',\n",
              " 'تموز',\n",
              " 'آب',\n",
              " 'أيلول',\n",
              " 'تشرين',\n",
              " 'دولار',\n",
              " 'دينار',\n",
              " 'ريال',\n",
              " 'درهم',\n",
              " 'ليرة',\n",
              " 'جنيه',\n",
              " 'قرش',\n",
              " 'مليم',\n",
              " 'فلس',\n",
              " 'هللة',\n",
              " 'سنتيم',\n",
              " 'يورو',\n",
              " 'ين',\n",
              " 'يوان',\n",
              " 'شيكل',\n",
              " 'واحد',\n",
              " 'اثنان',\n",
              " 'ثلاثة',\n",
              " 'أربعة',\n",
              " 'خمسة',\n",
              " 'ستة',\n",
              " 'سبعة',\n",
              " 'ثمانية',\n",
              " 'تسعة',\n",
              " 'عشرة',\n",
              " 'أحد',\n",
              " 'اثنا',\n",
              " 'اثني',\n",
              " 'إحدى',\n",
              " 'ثلاث',\n",
              " 'أربع',\n",
              " 'خمس',\n",
              " 'ست',\n",
              " 'سبع',\n",
              " 'ثماني',\n",
              " 'تسع',\n",
              " 'عشر',\n",
              " 'ثمان',\n",
              " 'سبت',\n",
              " 'أحد',\n",
              " 'اثنين',\n",
              " 'ثلاثاء',\n",
              " 'أربعاء',\n",
              " 'خميس',\n",
              " 'جمعة',\n",
              " 'أول',\n",
              " 'ثان',\n",
              " 'ثاني',\n",
              " 'ثالث',\n",
              " 'رابع',\n",
              " 'خامس',\n",
              " 'سادس',\n",
              " 'سابع',\n",
              " 'ثامن',\n",
              " 'تاسع',\n",
              " 'عاشر',\n",
              " 'حادي',\n",
              " 'أ',\n",
              " 'ب',\n",
              " 'ت',\n",
              " 'ث',\n",
              " 'ج',\n",
              " 'ح',\n",
              " 'خ',\n",
              " 'د',\n",
              " 'ذ',\n",
              " 'ر',\n",
              " 'ز',\n",
              " 'س',\n",
              " 'ش',\n",
              " 'ص',\n",
              " 'ض',\n",
              " 'ط',\n",
              " 'ظ',\n",
              " 'ع',\n",
              " 'غ',\n",
              " 'ف',\n",
              " 'ق',\n",
              " 'ك',\n",
              " 'ل',\n",
              " 'م',\n",
              " 'ن',\n",
              " 'ه',\n",
              " 'و',\n",
              " 'ي',\n",
              " 'ء',\n",
              " 'ى',\n",
              " 'آ',\n",
              " 'ؤ',\n",
              " 'ئ',\n",
              " 'أ',\n",
              " 'ة',\n",
              " 'ألف',\n",
              " 'باء',\n",
              " 'تاء',\n",
              " 'ثاء',\n",
              " 'جيم',\n",
              " 'حاء',\n",
              " 'خاء',\n",
              " 'دال',\n",
              " 'ذال',\n",
              " 'راء',\n",
              " 'زاي',\n",
              " 'سين',\n",
              " 'شين',\n",
              " 'صاد',\n",
              " 'ضاد',\n",
              " 'طاء',\n",
              " 'ظاء',\n",
              " 'عين',\n",
              " 'غين',\n",
              " 'فاء',\n",
              " 'قاف',\n",
              " 'كاف',\n",
              " 'لام',\n",
              " 'ميم',\n",
              " 'نون',\n",
              " 'هاء',\n",
              " 'واو',\n",
              " 'ياء',\n",
              " 'همزة',\n",
              " 'ي',\n",
              " 'نا',\n",
              " 'ك',\n",
              " 'كن',\n",
              " 'ه',\n",
              " 'إياه',\n",
              " 'إياها',\n",
              " 'إياهما',\n",
              " 'إياهم',\n",
              " 'إياهن',\n",
              " 'إياك',\n",
              " 'إياكما',\n",
              " 'إياكم',\n",
              " 'إياك',\n",
              " 'إياكن',\n",
              " 'إياي',\n",
              " 'إيانا',\n",
              " 'أولالك',\n",
              " 'تانِ',\n",
              " 'تانِك',\n",
              " 'تِه',\n",
              " 'تِي',\n",
              " 'تَيْنِ',\n",
              " 'ثمّ',\n",
              " 'ثمّة',\n",
              " 'ذانِ',\n",
              " 'ذِه',\n",
              " 'ذِي',\n",
              " 'ذَيْنِ',\n",
              " 'هَؤلاء',\n",
              " 'هَاتانِ',\n",
              " 'هَاتِه',\n",
              " 'هَاتِي',\n",
              " 'هَاتَيْنِ',\n",
              " 'هَذا',\n",
              " 'هَذانِ',\n",
              " 'هَذِه',\n",
              " 'هَذِي',\n",
              " 'هَذَيْنِ',\n",
              " 'الألى',\n",
              " 'الألاء',\n",
              " 'أل',\n",
              " 'أنّى',\n",
              " 'أيّ',\n",
              " 'ّأيّان',\n",
              " 'أنّى',\n",
              " 'أيّ',\n",
              " 'ّأيّان',\n",
              " 'ذيت',\n",
              " 'كأيّ',\n",
              " 'كأيّن',\n",
              " 'بضع',\n",
              " 'فلان',\n",
              " 'وا',\n",
              " 'آمينَ',\n",
              " 'آهِ',\n",
              " 'آهٍ',\n",
              " 'آهاً',\n",
              " 'أُفٍّ',\n",
              " 'أُفٍّ',\n",
              " 'أفٍّ',\n",
              " 'أمامك',\n",
              " 'أمامكَ',\n",
              " 'أوّهْ',\n",
              " 'إلَيْكَ',\n",
              " 'إلَيْكَ',\n",
              " 'إليكَ',\n",
              " 'إليكنّ',\n",
              " 'إيهٍ',\n",
              " 'بخٍ',\n",
              " 'بسّ',\n",
              " 'بَسْ',\n",
              " 'بطآن',\n",
              " 'بَلْهَ',\n",
              " 'حاي',\n",
              " 'حَذارِ',\n",
              " 'حيَّ',\n",
              " 'حيَّ',\n",
              " 'دونك',\n",
              " 'رويدك',\n",
              " 'سرعان',\n",
              " 'شتانَ',\n",
              " 'شَتَّانَ',\n",
              " 'صهْ',\n",
              " 'صهٍ',\n",
              " 'طاق',\n",
              " 'طَق',\n",
              " 'عَدَسْ',\n",
              " 'كِخ',\n",
              " 'مكانَك',\n",
              " 'مكانَك',\n",
              " 'مكانَك',\n",
              " 'مكانكم',\n",
              " 'مكانكما',\n",
              " 'مكانكنّ',\n",
              " 'نَخْ',\n",
              " 'هاكَ',\n",
              " 'هَجْ',\n",
              " 'هلم',\n",
              " 'هيّا',\n",
              " 'هَيْهات',\n",
              " 'وا',\n",
              " 'واهاً',\n",
              " 'وراءَك',\n",
              " 'وُشْكَانَ',\n",
              " 'وَيْ',\n",
              " 'يفعلان',\n",
              " 'تفعلان',\n",
              " 'يفعلون',\n",
              " 'تفعلون',\n",
              " 'تفعلين',\n",
              " 'اتخذ',\n",
              " 'ألفى',\n",
              " 'تخذ',\n",
              " 'ترك',\n",
              " 'تعلَّم',\n",
              " 'جعل',\n",
              " 'حجا',\n",
              " 'حبيب',\n",
              " 'خال',\n",
              " 'حسب',\n",
              " 'خال',\n",
              " 'درى',\n",
              " 'رأى',\n",
              " 'زعم',\n",
              " 'صبر',\n",
              " 'ظنَّ',\n",
              " 'عدَّ',\n",
              " 'علم',\n",
              " 'غادر',\n",
              " 'ذهب',\n",
              " 'وجد',\n",
              " 'ورد',\n",
              " 'وهب',\n",
              " 'أسكن',\n",
              " 'أطعم',\n",
              " 'أعطى',\n",
              " 'رزق',\n",
              " 'زود',\n",
              " 'سقى',\n",
              " 'كسا',\n",
              " 'أخبر',\n",
              " 'أرى',\n",
              " 'أعلم',\n",
              " 'أنبأ',\n",
              " 'حدَث',\n",
              " 'خبَّر',\n",
              " 'نبَّا',\n",
              " 'أفعل به',\n",
              " 'ما أفعله',\n",
              " 'بئس',\n",
              " 'ساء',\n",
              " 'طالما',\n",
              " 'قلما',\n",
              " 'لات',\n",
              " 'لكنَّ',\n",
              " 'ءَ',\n",
              " 'أجل',\n",
              " 'إذاً',\n",
              " 'أمّا',\n",
              " 'إمّا',\n",
              " 'إنَّ',\n",
              " 'أنًّ',\n",
              " 'أى',\n",
              " 'إى',\n",
              " 'أيا',\n",
              " 'ب',\n",
              " 'ثمَّ',\n",
              " 'جلل',\n",
              " 'جير',\n",
              " 'رُبَّ',\n",
              " 'س',\n",
              " 'علًّ',\n",
              " 'ف',\n",
              " 'كأنّ',\n",
              " 'كلَّا',\n",
              " 'كى',\n",
              " 'ل',\n",
              " 'لات',\n",
              " 'لعلَّ',\n",
              " 'لكنَّ',\n",
              " 'لكنَّ',\n",
              " 'م',\n",
              " 'نَّ',\n",
              " 'هلّا',\n",
              " 'وا',\n",
              " 'أل',\n",
              " 'إلّا',\n",
              " 'ت',\n",
              " 'ك',\n",
              " 'لمّا',\n",
              " 'ن',\n",
              " 'ه',\n",
              " 'و',\n",
              " 'ا',\n",
              " 'ي',\n",
              " 'تجاه',\n",
              " 'تلقاء',\n",
              " 'جميع',\n",
              " 'حسب',\n",
              " 'سبحان',\n",
              " 'شبه',\n",
              " 'لعمر',\n",
              " 'مثل',\n",
              " 'معاذ',\n",
              " 'أبو',\n",
              " 'أخو',\n",
              " 'حمو',\n",
              " 'فو',\n",
              " 'مئة',\n",
              " 'مئتان',\n",
              " 'ثلاثمئة',\n",
              " 'أربعمئة',\n",
              " 'خمسمئة',\n",
              " 'ستمئة',\n",
              " 'سبعمئة',\n",
              " 'ثمنمئة',\n",
              " 'تسعمئة',\n",
              " 'مائة',\n",
              " 'ثلاثمائة',\n",
              " 'أربعمائة',\n",
              " 'خمسمائة',\n",
              " 'ستمائة',\n",
              " 'سبعمائة',\n",
              " 'ثمانمئة',\n",
              " 'تسعمائة',\n",
              " 'عشرون',\n",
              " 'ثلاثون',\n",
              " 'اربعون',\n",
              " 'خمسون',\n",
              " 'ستون',\n",
              " 'سبعون',\n",
              " 'ثمانون',\n",
              " 'تسعون',\n",
              " 'عشرين',\n",
              " 'ثلاثين',\n",
              " 'اربعين',\n",
              " 'خمسين',\n",
              " 'ستين',\n",
              " 'سبعين',\n",
              " 'ثمانين',\n",
              " 'تسعين',\n",
              " 'بضع',\n",
              " 'نيف',\n",
              " 'أجمع',\n",
              " 'جميع',\n",
              " 'عامة',\n",
              " 'عين',\n",
              " 'نفس',\n",
              " 'لا سيما',\n",
              " 'أصلا',\n",
              " 'أهلا',\n",
              " 'أيضا',\n",
              " 'بؤسا',\n",
              " 'بعدا',\n",
              " 'بغتة',\n",
              " 'تعسا',\n",
              " 'حقا',\n",
              " 'حمدا',\n",
              " 'خلافا',\n",
              " 'خاصة',\n",
              " 'دواليك',\n",
              " 'سحقا',\n",
              " 'سرا',\n",
              " 'سمعا',\n",
              " 'صبرا',\n",
              " 'صدقا',\n",
              " 'صراحة',\n",
              " 'طرا',\n",
              " 'عجبا',\n",
              " 'عيانا',\n",
              " 'غالبا',\n",
              " 'فرادى',\n",
              " 'فضلا',\n",
              " 'قاطبة',\n",
              " 'كثيرا',\n",
              " 'لبيك',\n",
              " 'معاذ',\n",
              " 'أبدا',\n",
              " 'إزاء',\n",
              " 'أصلا',\n",
              " 'الآن',\n",
              " 'أمد',\n",
              " 'أمس',\n",
              " 'آنفا',\n",
              " 'آناء',\n",
              " 'أنّى',\n",
              " 'أول',\n",
              " 'أيّان',\n",
              " 'تارة',\n",
              " 'ثمّ',\n",
              " 'ثمّة',\n",
              " 'حقا',\n",
              " 'صباح',\n",
              " 'مساء',\n",
              " 'ضحوة',\n",
              " 'عوض',\n",
              " 'غدا',\n",
              " 'غداة',\n",
              " 'قطّ',\n",
              " 'كلّما',\n",
              " 'لدن',\n",
              " 'لمّا',\n",
              " 'مرّة',\n",
              " 'قبل',\n",
              " 'خلف',\n",
              " 'أمام',\n",
              " 'فوق',\n",
              " 'تحت',\n",
              " 'يمين',\n",
              " 'شمال',\n",
              " 'ارتدّ',\n",
              " 'استحال',\n",
              " 'أصبح',\n",
              " 'أضحى',\n",
              " 'آض',\n",
              " 'أمسى',\n",
              " 'انقلب',\n",
              " 'بات',\n",
              " 'تبدّل',\n",
              " 'تحوّل',\n",
              " 'حار',\n",
              " 'رجع',\n",
              " 'راح',\n",
              " 'صار',\n",
              " 'ظلّ',\n",
              " 'عاد',\n",
              " 'غدا',\n",
              " 'كان',\n",
              " 'ما انفك',\n",
              " 'ما برح',\n",
              " 'مادام',\n",
              " 'مازال',\n",
              " 'مافتئ',\n",
              " 'ابتدأ',\n",
              " 'أخذ',\n",
              " 'اخلولق',\n",
              " 'أقبل',\n",
              " 'انبرى',\n",
              " 'أنشأ',\n",
              " 'أوشك',\n",
              " 'جعل',\n",
              " 'حرى',\n",
              " 'شرع',\n",
              " 'طفق',\n",
              " 'علق',\n",
              " 'قام',\n",
              " 'كرب',\n",
              " 'كاد',\n",
              " 'هبّa',\n",
              " 'ad',\n",
              " 'altı',\n",
              " 'altmış',\n",
              " 'amma',\n",
              " 'arasında',\n",
              " 'artıq',\n",
              " 'ay',\n",
              " 'az',\n",
              " 'bax',\n",
              " 'belə',\n",
              " 'bəli',\n",
              " 'bəlkə',\n",
              " 'beş',\n",
              " 'bəy',\n",
              " 'bəzən',\n",
              " 'bəzi',\n",
              " 'bilər',\n",
              " 'bir',\n",
              " 'biraz',\n",
              " 'biri',\n",
              " 'birşey',\n",
              " 'biz',\n",
              " 'bizim',\n",
              " 'bizlər',\n",
              " 'bu',\n",
              " 'buna',\n",
              " 'bundan',\n",
              " 'bunların',\n",
              " 'bunu',\n",
              " 'bunun',\n",
              " 'buradan',\n",
              " 'bütün',\n",
              " 'ci',\n",
              " 'cı',\n",
              " 'çox',\n",
              " 'cu',\n",
              " 'cü',\n",
              " 'çünki',\n",
              " 'da',\n",
              " 'daha',\n",
              " 'də',\n",
              " 'dedi',\n",
              " 'dək',\n",
              " 'dən',\n",
              " 'dəqiqə',\n",
              " 'deyil',\n",
              " 'dir',\n",
              " 'doqquz',\n",
              " 'doqsan',\n",
              " 'dörd',\n",
              " 'düz',\n",
              " 'ə',\n",
              " 'edən',\n",
              " 'edir',\n",
              " 'əgər',\n",
              " 'əlbəttə',\n",
              " 'elə',\n",
              " 'əlli',\n",
              " 'ən',\n",
              " 'əslində',\n",
              " 'et',\n",
              " 'etdi',\n",
              " 'etmə',\n",
              " 'etmək',\n",
              " 'faiz',\n",
              " 'gilə',\n",
              " 'görə',\n",
              " 'ha',\n",
              " 'haqqında',\n",
              " 'harada',\n",
              " 'hə',\n",
              " 'heç',\n",
              " 'həm',\n",
              " 'həmin',\n",
              " 'həmişə',\n",
              " 'hər',\n",
              " 'ı',\n",
              " 'idi',\n",
              " 'iki',\n",
              " 'il',\n",
              " 'ildə',\n",
              " 'ilə',\n",
              " 'ilk',\n",
              " 'in',\n",
              " 'indi',\n",
              " 'isə',\n",
              " 'istifadə',\n",
              " 'iyirmi',\n",
              " 'ki',\n",
              " 'kim',\n",
              " 'kimə',\n",
              " 'kimi',\n",
              " 'lakin',\n",
              " 'lap',\n",
              " 'məhz',\n",
              " 'mən',\n",
              " 'mənə',\n",
              " 'mirşey',\n",
              " 'nə',\n",
              " 'nəhayət',\n",
              " 'niyə',\n",
              " 'o',\n",
              " 'obirisi',\n",
              " 'of',\n",
              " 'olan',\n",
              " 'olar',\n",
              " 'olaraq',\n",
              " 'oldu',\n",
              " 'olduğu',\n",
              " 'olmadı',\n",
              " 'olmaz',\n",
              " 'olmuşdur',\n",
              " 'olsun',\n",
              " 'olur',\n",
              " 'on',\n",
              " 'ona',\n",
              " 'ondan',\n",
              " 'onlar',\n",
              " 'onlardan',\n",
              " 'onların ',\n",
              " 'onsuzda',\n",
              " 'onu',\n",
              " 'onun',\n",
              " 'oradan',\n",
              " 'otuz',\n",
              " 'öz',\n",
              " 'özü',\n",
              " 'qarşı',\n",
              " 'qədər',\n",
              " 'qırx',\n",
              " 'saat',\n",
              " 'sadəcə',\n",
              " 'saniyə',\n",
              " 'səhv',\n",
              " 'səkkiz',\n",
              " 'səksən',\n",
              " 'sən',\n",
              " 'sənə',\n",
              " 'sənin',\n",
              " 'siz',\n",
              " 'sizin',\n",
              " 'sizlər',\n",
              " 'sonra',\n",
              " 'təəssüf',\n",
              " 'ü',\n",
              " 'üç',\n",
              " 'üçün',\n",
              " 'var',\n",
              " 'və',\n",
              " 'xan',\n",
              " 'xanım',\n",
              " 'xeyr',\n",
              " 'ya',\n",
              " 'yalnız',\n",
              " 'yaxşı',\n",
              " 'yeddi',\n",
              " 'yenə',\n",
              " 'yəni',\n",
              " 'yetmiş',\n",
              " 'yox',\n",
              " 'yoxdur',\n",
              " 'yoxsa',\n",
              " 'yüz',\n",
              " 'zamanahala',\n",
              " 'aitzitik',\n",
              " 'al',\n",
              " 'ala ',\n",
              " 'alabadere',\n",
              " 'alabaina',\n",
              " 'alabaina',\n",
              " 'aldiz ',\n",
              " 'alta',\n",
              " 'amaitu',\n",
              " 'amaitzeko',\n",
              " 'anitz',\n",
              " 'antzina',\n",
              " 'arabera',\n",
              " 'arabera',\n",
              " 'arabera',\n",
              " 'argi',\n",
              " 'arratsaldero',\n",
              " 'arte',\n",
              " 'artean',\n",
              " 'asko',\n",
              " 'aspaldiko',\n",
              " 'aurrera',\n",
              " 'aurrera',\n",
              " 'azkenez',\n",
              " 'azkenik',\n",
              " 'azkenik',\n",
              " 'ba',\n",
              " 'bada',\n",
              " 'bada ',\n",
              " 'bada ',\n",
              " 'bada ',\n",
              " 'badarik',\n",
              " 'badarik',\n",
              " 'badarik ',\n",
              " 'badere',\n",
              " 'bai',\n",
              " 'baina',\n",
              " 'baina',\n",
              " 'baina ',\n",
              " 'baino',\n",
              " 'baino',\n",
              " 'baino',\n",
              " 'baino',\n",
              " 'baita',\n",
              " 'baizik ',\n",
              " 'baldin',\n",
              " 'baldin',\n",
              " 'barren',\n",
              " 'bat',\n",
              " 'batean',\n",
              " 'batean',\n",
              " 'batean',\n",
              " 'batean',\n",
              " 'batek',\n",
              " 'baten',\n",
              " 'batera',\n",
              " 'batez',\n",
              " 'bati',\n",
              " 'batzuei',\n",
              " 'batzuek',\n",
              " 'batzuetan',\n",
              " 'batzuk',\n",
              " 'bazen',\n",
              " 'bederen',\n",
              " 'bederik',\n",
              " 'beharrez',\n",
              " 'behiala',\n",
              " 'behin',\n",
              " 'behin',\n",
              " 'behin',\n",
              " 'behin',\n",
              " 'behinik',\n",
              " 'behinola',\n",
              " 'behintzat',\n",
              " 'bera',\n",
              " 'beraiek',\n",
              " 'beranduago',\n",
              " 'berau',\n",
              " 'berauek',\n",
              " 'beraz',\n",
              " 'beraz ',\n",
              " 'bere',\n",
              " ...]"
            ]
          },
          "metadata": {},
          "execution_count": 2
        }
      ]
    },
    {
      "cell_type": "code",
      "source": [
        "stopwords.words('english')"
      ],
      "metadata": {
        "colab": {
          "base_uri": "https://localhost:8080/"
        },
        "id": "E47XOFJJQle9",
        "outputId": "3787f13a-56fc-4fc2-fc57-d92aac62127d"
      },
      "execution_count": null,
      "outputs": [
        {
          "output_type": "execute_result",
          "data": {
            "text/plain": [
              "['i',\n",
              " 'me',\n",
              " 'my',\n",
              " 'myself',\n",
              " 'we',\n",
              " 'our',\n",
              " 'ours',\n",
              " 'ourselves',\n",
              " 'you',\n",
              " \"you're\",\n",
              " \"you've\",\n",
              " \"you'll\",\n",
              " \"you'd\",\n",
              " 'your',\n",
              " 'yours',\n",
              " 'yourself',\n",
              " 'yourselves',\n",
              " 'he',\n",
              " 'him',\n",
              " 'his',\n",
              " 'himself',\n",
              " 'she',\n",
              " \"she's\",\n",
              " 'her',\n",
              " 'hers',\n",
              " 'herself',\n",
              " 'it',\n",
              " \"it's\",\n",
              " 'its',\n",
              " 'itself',\n",
              " 'they',\n",
              " 'them',\n",
              " 'their',\n",
              " 'theirs',\n",
              " 'themselves',\n",
              " 'what',\n",
              " 'which',\n",
              " 'who',\n",
              " 'whom',\n",
              " 'this',\n",
              " 'that',\n",
              " \"that'll\",\n",
              " 'these',\n",
              " 'those',\n",
              " 'am',\n",
              " 'is',\n",
              " 'are',\n",
              " 'was',\n",
              " 'were',\n",
              " 'be',\n",
              " 'been',\n",
              " 'being',\n",
              " 'have',\n",
              " 'has',\n",
              " 'had',\n",
              " 'having',\n",
              " 'do',\n",
              " 'does',\n",
              " 'did',\n",
              " 'doing',\n",
              " 'a',\n",
              " 'an',\n",
              " 'the',\n",
              " 'and',\n",
              " 'but',\n",
              " 'if',\n",
              " 'or',\n",
              " 'because',\n",
              " 'as',\n",
              " 'until',\n",
              " 'while',\n",
              " 'of',\n",
              " 'at',\n",
              " 'by',\n",
              " 'for',\n",
              " 'with',\n",
              " 'about',\n",
              " 'against',\n",
              " 'between',\n",
              " 'into',\n",
              " 'through',\n",
              " 'during',\n",
              " 'before',\n",
              " 'after',\n",
              " 'above',\n",
              " 'below',\n",
              " 'to',\n",
              " 'from',\n",
              " 'up',\n",
              " 'down',\n",
              " 'in',\n",
              " 'out',\n",
              " 'on',\n",
              " 'off',\n",
              " 'over',\n",
              " 'under',\n",
              " 'again',\n",
              " 'further',\n",
              " 'then',\n",
              " 'once',\n",
              " 'here',\n",
              " 'there',\n",
              " 'when',\n",
              " 'where',\n",
              " 'why',\n",
              " 'how',\n",
              " 'all',\n",
              " 'any',\n",
              " 'both',\n",
              " 'each',\n",
              " 'few',\n",
              " 'more',\n",
              " 'most',\n",
              " 'other',\n",
              " 'some',\n",
              " 'such',\n",
              " 'no',\n",
              " 'nor',\n",
              " 'not',\n",
              " 'only',\n",
              " 'own',\n",
              " 'same',\n",
              " 'so',\n",
              " 'than',\n",
              " 'too',\n",
              " 'very',\n",
              " 's',\n",
              " 't',\n",
              " 'can',\n",
              " 'will',\n",
              " 'just',\n",
              " 'don',\n",
              " \"don't\",\n",
              " 'should',\n",
              " \"should've\",\n",
              " 'now',\n",
              " 'd',\n",
              " 'll',\n",
              " 'm',\n",
              " 'o',\n",
              " 're',\n",
              " 've',\n",
              " 'y',\n",
              " 'ain',\n",
              " 'aren',\n",
              " \"aren't\",\n",
              " 'couldn',\n",
              " \"couldn't\",\n",
              " 'didn',\n",
              " \"didn't\",\n",
              " 'doesn',\n",
              " \"doesn't\",\n",
              " 'hadn',\n",
              " \"hadn't\",\n",
              " 'hasn',\n",
              " \"hasn't\",\n",
              " 'haven',\n",
              " \"haven't\",\n",
              " 'isn',\n",
              " \"isn't\",\n",
              " 'ma',\n",
              " 'mightn',\n",
              " \"mightn't\",\n",
              " 'mustn',\n",
              " \"mustn't\",\n",
              " 'needn',\n",
              " \"needn't\",\n",
              " 'shan',\n",
              " \"shan't\",\n",
              " 'shouldn',\n",
              " \"shouldn't\",\n",
              " 'wasn',\n",
              " \"wasn't\",\n",
              " 'weren',\n",
              " \"weren't\",\n",
              " 'won',\n",
              " \"won't\",\n",
              " 'wouldn',\n",
              " \"wouldn't\"]"
            ]
          },
          "metadata": {},
          "execution_count": 3
        }
      ]
    },
    {
      "cell_type": "code",
      "metadata": {
        "id": "R_qNtUcq4MQN",
        "colab": {
          "base_uri": "https://localhost:8080/",
          "height": 223
        },
        "outputId": "533fd527-4f8e-46aa-8f10-ef37abea172a"
      },
      "source": [
        "datos=pd.read_csv('https://raw.githubusercontent.com/AnIsAsPe/ElementosEstadisticaMachineLearningPython/master/Semana8/spam_ham_dataset.csv',\n",
        "                  usecols=['text','label_num'] )\n",
        "datos.columns=['text','spam']\n",
        "\n",
        "print(datos.shape)\n",
        "datos.head()"
      ],
      "execution_count": null,
      "outputs": [
        {
          "output_type": "stream",
          "name": "stdout",
          "text": [
            "(5171, 2)\n"
          ]
        },
        {
          "output_type": "execute_result",
          "data": {
            "text/plain": [
              "                                                text  spam\n",
              "0  Subject: enron methanol ; meter # : 988291\\r\\n...     0\n",
              "1  Subject: hpl nom for january 9 , 2001\\r\\n( see...     0\n",
              "2  Subject: neon retreat\\r\\nho ho ho , we ' re ar...     0\n",
              "3  Subject: photoshop , windows , office . cheap ...     1\n",
              "4  Subject: re : indian springs\\r\\nthis deal is t...     0"
            ],
            "text/html": [
              "\n",
              "  <div id=\"df-6de09849-c277-42ff-b849-e2181d4a246a\">\n",
              "    <div class=\"colab-df-container\">\n",
              "      <div>\n",
              "<style scoped>\n",
              "    .dataframe tbody tr th:only-of-type {\n",
              "        vertical-align: middle;\n",
              "    }\n",
              "\n",
              "    .dataframe tbody tr th {\n",
              "        vertical-align: top;\n",
              "    }\n",
              "\n",
              "    .dataframe thead th {\n",
              "        text-align: right;\n",
              "    }\n",
              "</style>\n",
              "<table border=\"1\" class=\"dataframe\">\n",
              "  <thead>\n",
              "    <tr style=\"text-align: right;\">\n",
              "      <th></th>\n",
              "      <th>text</th>\n",
              "      <th>spam</th>\n",
              "    </tr>\n",
              "  </thead>\n",
              "  <tbody>\n",
              "    <tr>\n",
              "      <th>0</th>\n",
              "      <td>Subject: enron methanol ; meter # : 988291\\r\\n...</td>\n",
              "      <td>0</td>\n",
              "    </tr>\n",
              "    <tr>\n",
              "      <th>1</th>\n",
              "      <td>Subject: hpl nom for january 9 , 2001\\r\\n( see...</td>\n",
              "      <td>0</td>\n",
              "    </tr>\n",
              "    <tr>\n",
              "      <th>2</th>\n",
              "      <td>Subject: neon retreat\\r\\nho ho ho , we ' re ar...</td>\n",
              "      <td>0</td>\n",
              "    </tr>\n",
              "    <tr>\n",
              "      <th>3</th>\n",
              "      <td>Subject: photoshop , windows , office . cheap ...</td>\n",
              "      <td>1</td>\n",
              "    </tr>\n",
              "    <tr>\n",
              "      <th>4</th>\n",
              "      <td>Subject: re : indian springs\\r\\nthis deal is t...</td>\n",
              "      <td>0</td>\n",
              "    </tr>\n",
              "  </tbody>\n",
              "</table>\n",
              "</div>\n",
              "      <button class=\"colab-df-convert\" onclick=\"convertToInteractive('df-6de09849-c277-42ff-b849-e2181d4a246a')\"\n",
              "              title=\"Convert this dataframe to an interactive table.\"\n",
              "              style=\"display:none;\">\n",
              "        \n",
              "  <svg xmlns=\"http://www.w3.org/2000/svg\" height=\"24px\"viewBox=\"0 0 24 24\"\n",
              "       width=\"24px\">\n",
              "    <path d=\"M0 0h24v24H0V0z\" fill=\"none\"/>\n",
              "    <path d=\"M18.56 5.44l.94 2.06.94-2.06 2.06-.94-2.06-.94-.94-2.06-.94 2.06-2.06.94zm-11 1L8.5 8.5l.94-2.06 2.06-.94-2.06-.94L8.5 2.5l-.94 2.06-2.06.94zm10 10l.94 2.06.94-2.06 2.06-.94-2.06-.94-.94-2.06-.94 2.06-2.06.94z\"/><path d=\"M17.41 7.96l-1.37-1.37c-.4-.4-.92-.59-1.43-.59-.52 0-1.04.2-1.43.59L10.3 9.45l-7.72 7.72c-.78.78-.78 2.05 0 2.83L4 21.41c.39.39.9.59 1.41.59.51 0 1.02-.2 1.41-.59l7.78-7.78 2.81-2.81c.8-.78.8-2.07 0-2.86zM5.41 20L4 18.59l7.72-7.72 1.47 1.35L5.41 20z\"/>\n",
              "  </svg>\n",
              "      </button>\n",
              "      \n",
              "  <style>\n",
              "    .colab-df-container {\n",
              "      display:flex;\n",
              "      flex-wrap:wrap;\n",
              "      gap: 12px;\n",
              "    }\n",
              "\n",
              "    .colab-df-convert {\n",
              "      background-color: #E8F0FE;\n",
              "      border: none;\n",
              "      border-radius: 50%;\n",
              "      cursor: pointer;\n",
              "      display: none;\n",
              "      fill: #1967D2;\n",
              "      height: 32px;\n",
              "      padding: 0 0 0 0;\n",
              "      width: 32px;\n",
              "    }\n",
              "\n",
              "    .colab-df-convert:hover {\n",
              "      background-color: #E2EBFA;\n",
              "      box-shadow: 0px 1px 2px rgba(60, 64, 67, 0.3), 0px 1px 3px 1px rgba(60, 64, 67, 0.15);\n",
              "      fill: #174EA6;\n",
              "    }\n",
              "\n",
              "    [theme=dark] .colab-df-convert {\n",
              "      background-color: #3B4455;\n",
              "      fill: #D2E3FC;\n",
              "    }\n",
              "\n",
              "    [theme=dark] .colab-df-convert:hover {\n",
              "      background-color: #434B5C;\n",
              "      box-shadow: 0px 1px 3px 1px rgba(0, 0, 0, 0.15);\n",
              "      filter: drop-shadow(0px 1px 2px rgba(0, 0, 0, 0.3));\n",
              "      fill: #FFFFFF;\n",
              "    }\n",
              "  </style>\n",
              "\n",
              "      <script>\n",
              "        const buttonEl =\n",
              "          document.querySelector('#df-6de09849-c277-42ff-b849-e2181d4a246a button.colab-df-convert');\n",
              "        buttonEl.style.display =\n",
              "          google.colab.kernel.accessAllowed ? 'block' : 'none';\n",
              "\n",
              "        async function convertToInteractive(key) {\n",
              "          const element = document.querySelector('#df-6de09849-c277-42ff-b849-e2181d4a246a');\n",
              "          const dataTable =\n",
              "            await google.colab.kernel.invokeFunction('convertToInteractive',\n",
              "                                                     [key], {});\n",
              "          if (!dataTable) return;\n",
              "\n",
              "          const docLinkHtml = 'Like what you see? Visit the ' +\n",
              "            '<a target=\"_blank\" href=https://colab.research.google.com/notebooks/data_table.ipynb>data table notebook</a>'\n",
              "            + ' to learn more about interactive tables.';\n",
              "          element.innerHTML = '';\n",
              "          dataTable['output_type'] = 'display_data';\n",
              "          await google.colab.output.renderOutput(dataTable, element);\n",
              "          const docLink = document.createElement('div');\n",
              "          docLink.innerHTML = docLinkHtml;\n",
              "          element.appendChild(docLink);\n",
              "        }\n",
              "      </script>\n",
              "    </div>\n",
              "  </div>\n",
              "  "
            ]
          },
          "metadata": {},
          "execution_count": 4
        }
      ]
    },
    {
      "cell_type": "code",
      "metadata": {
        "id": "WEq5tt2N41nW",
        "colab": {
          "base_uri": "https://localhost:8080/"
        },
        "outputId": "3efcbbb5-e4d9-48b3-85f5-941ba129836c"
      },
      "source": [
        "datos['spam'].value_counts()"
      ],
      "execution_count": null,
      "outputs": [
        {
          "output_type": "execute_result",
          "data": {
            "text/plain": [
              "0    3672\n",
              "1    1499\n",
              "Name: spam, dtype: int64"
            ]
          },
          "metadata": {},
          "execution_count": 5
        }
      ]
    },
    {
      "cell_type": "markdown",
      "source": [
        "## Primer Caso usando TFIDF"
      ],
      "metadata": {
        "id": "47mQh-QWdJsB"
      }
    },
    {
      "cell_type": "markdown",
      "metadata": {
        "id": "B10uYOdPAm2-"
      },
      "source": [
        "### Preprocesamiento de textos"
      ]
    },
    {
      "cell_type": "code",
      "metadata": {
        "id": "7k_x2WD3-iZ6"
      },
      "source": [
        "def preprocesar(texto):\n",
        "  #convierte a minúsculas\n",
        "  texto = (texto).lower()\n",
        "\n",
        "  #elimina stopwords + 'subject'\n",
        "  stop = re.compile(r'\\b(' + r'|'.join(stopwords.words('english')+(['subject'])) + r')\\b\\s*')\n",
        "  texto = stop.sub('', texto)\n",
        "\n",
        "  #quita puntuaciones y números\n",
        "  texto = re.sub('[^a-z]+', ' ', texto)\n",
        "\n",
        "  #lematizar y quedarnos con palabras que tengan más de tres caracteres\n",
        "  st = PorterStemmer()\n",
        "  texto = texto.split()\n",
        "  texto = ' '.join([st.stem(i) for i in texto])\n",
        "\n",
        "  return(texto)"
      ],
      "execution_count": null,
      "outputs": []
    },
    {
      "cell_type": "code",
      "source": [
        "st = PorterStemmer()\n",
        "print(st.stem('finished'))\n",
        "print(st.stem('finishing'))"
      ],
      "metadata": {
        "id": "wp4zaQrLlqy0",
        "colab": {
          "base_uri": "https://localhost:8080/"
        },
        "outputId": "492c80f0-763a-4ae7-ee10-bbd22869069f"
      },
      "execution_count": null,
      "outputs": [
        {
          "output_type": "stream",
          "name": "stdout",
          "text": [
            "finish\n",
            "finish\n"
          ]
        }
      ]
    },
    {
      "cell_type": "code",
      "metadata": {
        "id": "d5NaISfg6op2",
        "colab": {
          "base_uri": "https://localhost:8080/",
          "height": 423
        },
        "outputId": "aabb6df6-d287-40d6-db85-9f34e8bec753"
      },
      "source": [
        "datos['text_pp'] = datos['text'].apply(preprocesar)\n",
        "datos"
      ],
      "execution_count": null,
      "outputs": [
        {
          "output_type": "execute_result",
          "data": {
            "text/plain": [
              "                                                   text  spam  \\\n",
              "0     Subject: enron methanol ; meter # : 988291\\r\\n...     0   \n",
              "1     Subject: hpl nom for january 9 , 2001\\r\\n( see...     0   \n",
              "2     Subject: neon retreat\\r\\nho ho ho , we ' re ar...     0   \n",
              "3     Subject: photoshop , windows , office . cheap ...     1   \n",
              "4     Subject: re : indian springs\\r\\nthis deal is t...     0   \n",
              "...                                                 ...   ...   \n",
              "5166  Subject: put the 10 on the ft\\r\\nthe transport...     0   \n",
              "5167  Subject: 3 / 4 / 2000 and following noms\\r\\nhp...     0   \n",
              "5168  Subject: calpine daily gas nomination\\r\\n>\\r\\n...     0   \n",
              "5169  Subject: industrial worksheets for august 2000...     0   \n",
              "5170  Subject: important online banking alert\\r\\ndea...     1   \n",
              "\n",
              "                                                text_pp  \n",
              "0     enron methanol meter follow note gave monday p...  \n",
              "1     hpl nom januari see attach file hplnol xl hpln...  \n",
              "2     neon retreat ho ho ho around wonder time year ...  \n",
              "3     photoshop window offic cheap main trend abas d...  \n",
              "4     indian spring deal book teco pvr revenu unders...  \n",
              "...                                                 ...  \n",
              "5166  put ft transport volum decreas contract thank ...  \n",
              "5167  follow nom hpl take extra mmcf weekend tri nex...  \n",
              "5168  calpin daili ga nomin juli mention earlier hop...  \n",
              "5169  industri worksheet august activ attach workshe...  \n",
              "5170  import onlin bank alert dear valu citizensr ba...  \n",
              "\n",
              "[5171 rows x 3 columns]"
            ],
            "text/html": [
              "\n",
              "  <div id=\"df-67ca3493-40a8-4306-84ff-7023a5a0ad35\">\n",
              "    <div class=\"colab-df-container\">\n",
              "      <div>\n",
              "<style scoped>\n",
              "    .dataframe tbody tr th:only-of-type {\n",
              "        vertical-align: middle;\n",
              "    }\n",
              "\n",
              "    .dataframe tbody tr th {\n",
              "        vertical-align: top;\n",
              "    }\n",
              "\n",
              "    .dataframe thead th {\n",
              "        text-align: right;\n",
              "    }\n",
              "</style>\n",
              "<table border=\"1\" class=\"dataframe\">\n",
              "  <thead>\n",
              "    <tr style=\"text-align: right;\">\n",
              "      <th></th>\n",
              "      <th>text</th>\n",
              "      <th>spam</th>\n",
              "      <th>text_pp</th>\n",
              "    </tr>\n",
              "  </thead>\n",
              "  <tbody>\n",
              "    <tr>\n",
              "      <th>0</th>\n",
              "      <td>Subject: enron methanol ; meter # : 988291\\r\\n...</td>\n",
              "      <td>0</td>\n",
              "      <td>enron methanol meter follow note gave monday p...</td>\n",
              "    </tr>\n",
              "    <tr>\n",
              "      <th>1</th>\n",
              "      <td>Subject: hpl nom for january 9 , 2001\\r\\n( see...</td>\n",
              "      <td>0</td>\n",
              "      <td>hpl nom januari see attach file hplnol xl hpln...</td>\n",
              "    </tr>\n",
              "    <tr>\n",
              "      <th>2</th>\n",
              "      <td>Subject: neon retreat\\r\\nho ho ho , we ' re ar...</td>\n",
              "      <td>0</td>\n",
              "      <td>neon retreat ho ho ho around wonder time year ...</td>\n",
              "    </tr>\n",
              "    <tr>\n",
              "      <th>3</th>\n",
              "      <td>Subject: photoshop , windows , office . cheap ...</td>\n",
              "      <td>1</td>\n",
              "      <td>photoshop window offic cheap main trend abas d...</td>\n",
              "    </tr>\n",
              "    <tr>\n",
              "      <th>4</th>\n",
              "      <td>Subject: re : indian springs\\r\\nthis deal is t...</td>\n",
              "      <td>0</td>\n",
              "      <td>indian spring deal book teco pvr revenu unders...</td>\n",
              "    </tr>\n",
              "    <tr>\n",
              "      <th>...</th>\n",
              "      <td>...</td>\n",
              "      <td>...</td>\n",
              "      <td>...</td>\n",
              "    </tr>\n",
              "    <tr>\n",
              "      <th>5166</th>\n",
              "      <td>Subject: put the 10 on the ft\\r\\nthe transport...</td>\n",
              "      <td>0</td>\n",
              "      <td>put ft transport volum decreas contract thank ...</td>\n",
              "    </tr>\n",
              "    <tr>\n",
              "      <th>5167</th>\n",
              "      <td>Subject: 3 / 4 / 2000 and following noms\\r\\nhp...</td>\n",
              "      <td>0</td>\n",
              "      <td>follow nom hpl take extra mmcf weekend tri nex...</td>\n",
              "    </tr>\n",
              "    <tr>\n",
              "      <th>5168</th>\n",
              "      <td>Subject: calpine daily gas nomination\\r\\n&gt;\\r\\n...</td>\n",
              "      <td>0</td>\n",
              "      <td>calpin daili ga nomin juli mention earlier hop...</td>\n",
              "    </tr>\n",
              "    <tr>\n",
              "      <th>5169</th>\n",
              "      <td>Subject: industrial worksheets for august 2000...</td>\n",
              "      <td>0</td>\n",
              "      <td>industri worksheet august activ attach workshe...</td>\n",
              "    </tr>\n",
              "    <tr>\n",
              "      <th>5170</th>\n",
              "      <td>Subject: important online banking alert\\r\\ndea...</td>\n",
              "      <td>1</td>\n",
              "      <td>import onlin bank alert dear valu citizensr ba...</td>\n",
              "    </tr>\n",
              "  </tbody>\n",
              "</table>\n",
              "<p>5171 rows × 3 columns</p>\n",
              "</div>\n",
              "      <button class=\"colab-df-convert\" onclick=\"convertToInteractive('df-67ca3493-40a8-4306-84ff-7023a5a0ad35')\"\n",
              "              title=\"Convert this dataframe to an interactive table.\"\n",
              "              style=\"display:none;\">\n",
              "        \n",
              "  <svg xmlns=\"http://www.w3.org/2000/svg\" height=\"24px\"viewBox=\"0 0 24 24\"\n",
              "       width=\"24px\">\n",
              "    <path d=\"M0 0h24v24H0V0z\" fill=\"none\"/>\n",
              "    <path d=\"M18.56 5.44l.94 2.06.94-2.06 2.06-.94-2.06-.94-.94-2.06-.94 2.06-2.06.94zm-11 1L8.5 8.5l.94-2.06 2.06-.94-2.06-.94L8.5 2.5l-.94 2.06-2.06.94zm10 10l.94 2.06.94-2.06 2.06-.94-2.06-.94-.94-2.06-.94 2.06-2.06.94z\"/><path d=\"M17.41 7.96l-1.37-1.37c-.4-.4-.92-.59-1.43-.59-.52 0-1.04.2-1.43.59L10.3 9.45l-7.72 7.72c-.78.78-.78 2.05 0 2.83L4 21.41c.39.39.9.59 1.41.59.51 0 1.02-.2 1.41-.59l7.78-7.78 2.81-2.81c.8-.78.8-2.07 0-2.86zM5.41 20L4 18.59l7.72-7.72 1.47 1.35L5.41 20z\"/>\n",
              "  </svg>\n",
              "      </button>\n",
              "      \n",
              "  <style>\n",
              "    .colab-df-container {\n",
              "      display:flex;\n",
              "      flex-wrap:wrap;\n",
              "      gap: 12px;\n",
              "    }\n",
              "\n",
              "    .colab-df-convert {\n",
              "      background-color: #E8F0FE;\n",
              "      border: none;\n",
              "      border-radius: 50%;\n",
              "      cursor: pointer;\n",
              "      display: none;\n",
              "      fill: #1967D2;\n",
              "      height: 32px;\n",
              "      padding: 0 0 0 0;\n",
              "      width: 32px;\n",
              "    }\n",
              "\n",
              "    .colab-df-convert:hover {\n",
              "      background-color: #E2EBFA;\n",
              "      box-shadow: 0px 1px 2px rgba(60, 64, 67, 0.3), 0px 1px 3px 1px rgba(60, 64, 67, 0.15);\n",
              "      fill: #174EA6;\n",
              "    }\n",
              "\n",
              "    [theme=dark] .colab-df-convert {\n",
              "      background-color: #3B4455;\n",
              "      fill: #D2E3FC;\n",
              "    }\n",
              "\n",
              "    [theme=dark] .colab-df-convert:hover {\n",
              "      background-color: #434B5C;\n",
              "      box-shadow: 0px 1px 3px 1px rgba(0, 0, 0, 0.15);\n",
              "      filter: drop-shadow(0px 1px 2px rgba(0, 0, 0, 0.3));\n",
              "      fill: #FFFFFF;\n",
              "    }\n",
              "  </style>\n",
              "\n",
              "      <script>\n",
              "        const buttonEl =\n",
              "          document.querySelector('#df-67ca3493-40a8-4306-84ff-7023a5a0ad35 button.colab-df-convert');\n",
              "        buttonEl.style.display =\n",
              "          google.colab.kernel.accessAllowed ? 'block' : 'none';\n",
              "\n",
              "        async function convertToInteractive(key) {\n",
              "          const element = document.querySelector('#df-67ca3493-40a8-4306-84ff-7023a5a0ad35');\n",
              "          const dataTable =\n",
              "            await google.colab.kernel.invokeFunction('convertToInteractive',\n",
              "                                                     [key], {});\n",
              "          if (!dataTable) return;\n",
              "\n",
              "          const docLinkHtml = 'Like what you see? Visit the ' +\n",
              "            '<a target=\"_blank\" href=https://colab.research.google.com/notebooks/data_table.ipynb>data table notebook</a>'\n",
              "            + ' to learn more about interactive tables.';\n",
              "          element.innerHTML = '';\n",
              "          dataTable['output_type'] = 'display_data';\n",
              "          await google.colab.output.renderOutput(dataTable, element);\n",
              "          const docLink = document.createElement('div');\n",
              "          docLink.innerHTML = docLinkHtml;\n",
              "          element.appendChild(docLink);\n",
              "        }\n",
              "      </script>\n",
              "    </div>\n",
              "  </div>\n",
              "  "
            ]
          },
          "metadata": {},
          "execution_count": 8
        }
      ]
    },
    {
      "cell_type": "markdown",
      "metadata": {
        "id": "ihnhEfR9AsD1"
      },
      "source": [
        "### Vectorización de Texto mediante BOW"
      ]
    },
    {
      "cell_type": "code",
      "source": [
        "tfidf = TfidfVectorizer(min_df=3) #matrix of TF-IDF features\n",
        "mdt_tfidf = tfidf.fit_transform(datos['text_pp'])\n",
        "palabras = tfidf.get_feature_names_out()\n",
        "MDT = pd.DataFrame(mdt_tfidf.todense(),\n",
        "                              index=datos.index,\n",
        "                              columns=palabras)\n",
        "print(MDT.shape)\n",
        "MDT"
      ],
      "metadata": {
        "id": "eAbFhCTMT_lV",
        "colab": {
          "base_uri": "https://localhost:8080/",
          "height": 441
        },
        "outputId": "0223d278-c1e7-4650-93a5-aeae4d6beb46"
      },
      "execution_count": null,
      "outputs": [
        {
          "output_type": "stream",
          "name": "stdout",
          "text": [
            "(5171, 10376)\n"
          ]
        },
        {
          "output_type": "execute_result",
          "data": {
            "text/plain": [
              "       aa  aalland  aaron   ab  aba  aback  abacu  abacustech  abandon  abash  \\\n",
              "0     0.0      0.0    0.0  0.0  0.0    0.0    0.0         0.0      0.0    0.0   \n",
              "1     0.0      0.0    0.0  0.0  0.0    0.0    0.0         0.0      0.0    0.0   \n",
              "2     0.0      0.0    0.0  0.0  0.0    0.0    0.0         0.0      0.0    0.0   \n",
              "3     0.0      0.0    0.0  0.0  0.0    0.0    0.0         0.0      0.0    0.0   \n",
              "4     0.0      0.0    0.0  0.0  0.0    0.0    0.0         0.0      0.0    0.0   \n",
              "...   ...      ...    ...  ...  ...    ...    ...         ...      ...    ...   \n",
              "5166  0.0      0.0    0.0  0.0  0.0    0.0    0.0         0.0      0.0    0.0   \n",
              "5167  0.0      0.0    0.0  0.0  0.0    0.0    0.0         0.0      0.0    0.0   \n",
              "5168  0.0      0.0    0.0  0.0  0.0    0.0    0.0         0.0      0.0    0.0   \n",
              "5169  0.0      0.0    0.0  0.0  0.0    0.0    0.0         0.0      0.0    0.0   \n",
              "5170  0.0      0.0    0.0  0.0  0.0    0.0    0.0         0.0      0.0    0.0   \n",
              "\n",
              "      ...  zodiac  zoloft  zone  zonedubai  zonewww   zs   zu  zurich  \\\n",
              "0     ...     0.0     0.0   0.0        0.0      0.0  0.0  0.0     0.0   \n",
              "1     ...     0.0     0.0   0.0        0.0      0.0  0.0  0.0     0.0   \n",
              "2     ...     0.0     0.0   0.0        0.0      0.0  0.0  0.0     0.0   \n",
              "3     ...     0.0     0.0   0.0        0.0      0.0  0.0  0.0     0.0   \n",
              "4     ...     0.0     0.0   0.0        0.0      0.0  0.0  0.0     0.0   \n",
              "...   ...     ...     ...   ...        ...      ...  ...  ...     ...   \n",
              "5166  ...     0.0     0.0   0.0        0.0      0.0  0.0  0.0     0.0   \n",
              "5167  ...     0.0     0.0   0.0        0.0      0.0  0.0  0.0     0.0   \n",
              "5168  ...     0.0     0.0   0.0        0.0      0.0  0.0  0.0     0.0   \n",
              "5169  ...     0.0     0.0   0.0        0.0      0.0  0.0  0.0     0.0   \n",
              "5170  ...     0.0     0.0   0.0        0.0      0.0  0.0  0.0     0.0   \n",
              "\n",
              "      zwallet  zyban  \n",
              "0         0.0    0.0  \n",
              "1         0.0    0.0  \n",
              "2         0.0    0.0  \n",
              "3         0.0    0.0  \n",
              "4         0.0    0.0  \n",
              "...       ...    ...  \n",
              "5166      0.0    0.0  \n",
              "5167      0.0    0.0  \n",
              "5168      0.0    0.0  \n",
              "5169      0.0    0.0  \n",
              "5170      0.0    0.0  \n",
              "\n",
              "[5171 rows x 10376 columns]"
            ],
            "text/html": [
              "\n",
              "  <div id=\"df-f26fcfb3-e642-4713-961f-8d02ac6ab47f\">\n",
              "    <div class=\"colab-df-container\">\n",
              "      <div>\n",
              "<style scoped>\n",
              "    .dataframe tbody tr th:only-of-type {\n",
              "        vertical-align: middle;\n",
              "    }\n",
              "\n",
              "    .dataframe tbody tr th {\n",
              "        vertical-align: top;\n",
              "    }\n",
              "\n",
              "    .dataframe thead th {\n",
              "        text-align: right;\n",
              "    }\n",
              "</style>\n",
              "<table border=\"1\" class=\"dataframe\">\n",
              "  <thead>\n",
              "    <tr style=\"text-align: right;\">\n",
              "      <th></th>\n",
              "      <th>aa</th>\n",
              "      <th>aalland</th>\n",
              "      <th>aaron</th>\n",
              "      <th>ab</th>\n",
              "      <th>aba</th>\n",
              "      <th>aback</th>\n",
              "      <th>abacu</th>\n",
              "      <th>abacustech</th>\n",
              "      <th>abandon</th>\n",
              "      <th>abash</th>\n",
              "      <th>...</th>\n",
              "      <th>zodiac</th>\n",
              "      <th>zoloft</th>\n",
              "      <th>zone</th>\n",
              "      <th>zonedubai</th>\n",
              "      <th>zonewww</th>\n",
              "      <th>zs</th>\n",
              "      <th>zu</th>\n",
              "      <th>zurich</th>\n",
              "      <th>zwallet</th>\n",
              "      <th>zyban</th>\n",
              "    </tr>\n",
              "  </thead>\n",
              "  <tbody>\n",
              "    <tr>\n",
              "      <th>0</th>\n",
              "      <td>0.0</td>\n",
              "      <td>0.0</td>\n",
              "      <td>0.0</td>\n",
              "      <td>0.0</td>\n",
              "      <td>0.0</td>\n",
              "      <td>0.0</td>\n",
              "      <td>0.0</td>\n",
              "      <td>0.0</td>\n",
              "      <td>0.0</td>\n",
              "      <td>0.0</td>\n",
              "      <td>...</td>\n",
              "      <td>0.0</td>\n",
              "      <td>0.0</td>\n",
              "      <td>0.0</td>\n",
              "      <td>0.0</td>\n",
              "      <td>0.0</td>\n",
              "      <td>0.0</td>\n",
              "      <td>0.0</td>\n",
              "      <td>0.0</td>\n",
              "      <td>0.0</td>\n",
              "      <td>0.0</td>\n",
              "    </tr>\n",
              "    <tr>\n",
              "      <th>1</th>\n",
              "      <td>0.0</td>\n",
              "      <td>0.0</td>\n",
              "      <td>0.0</td>\n",
              "      <td>0.0</td>\n",
              "      <td>0.0</td>\n",
              "      <td>0.0</td>\n",
              "      <td>0.0</td>\n",
              "      <td>0.0</td>\n",
              "      <td>0.0</td>\n",
              "      <td>0.0</td>\n",
              "      <td>...</td>\n",
              "      <td>0.0</td>\n",
              "      <td>0.0</td>\n",
              "      <td>0.0</td>\n",
              "      <td>0.0</td>\n",
              "      <td>0.0</td>\n",
              "      <td>0.0</td>\n",
              "      <td>0.0</td>\n",
              "      <td>0.0</td>\n",
              "      <td>0.0</td>\n",
              "      <td>0.0</td>\n",
              "    </tr>\n",
              "    <tr>\n",
              "      <th>2</th>\n",
              "      <td>0.0</td>\n",
              "      <td>0.0</td>\n",
              "      <td>0.0</td>\n",
              "      <td>0.0</td>\n",
              "      <td>0.0</td>\n",
              "      <td>0.0</td>\n",
              "      <td>0.0</td>\n",
              "      <td>0.0</td>\n",
              "      <td>0.0</td>\n",
              "      <td>0.0</td>\n",
              "      <td>...</td>\n",
              "      <td>0.0</td>\n",
              "      <td>0.0</td>\n",
              "      <td>0.0</td>\n",
              "      <td>0.0</td>\n",
              "      <td>0.0</td>\n",
              "      <td>0.0</td>\n",
              "      <td>0.0</td>\n",
              "      <td>0.0</td>\n",
              "      <td>0.0</td>\n",
              "      <td>0.0</td>\n",
              "    </tr>\n",
              "    <tr>\n",
              "      <th>3</th>\n",
              "      <td>0.0</td>\n",
              "      <td>0.0</td>\n",
              "      <td>0.0</td>\n",
              "      <td>0.0</td>\n",
              "      <td>0.0</td>\n",
              "      <td>0.0</td>\n",
              "      <td>0.0</td>\n",
              "      <td>0.0</td>\n",
              "      <td>0.0</td>\n",
              "      <td>0.0</td>\n",
              "      <td>...</td>\n",
              "      <td>0.0</td>\n",
              "      <td>0.0</td>\n",
              "      <td>0.0</td>\n",
              "      <td>0.0</td>\n",
              "      <td>0.0</td>\n",
              "      <td>0.0</td>\n",
              "      <td>0.0</td>\n",
              "      <td>0.0</td>\n",
              "      <td>0.0</td>\n",
              "      <td>0.0</td>\n",
              "    </tr>\n",
              "    <tr>\n",
              "      <th>4</th>\n",
              "      <td>0.0</td>\n",
              "      <td>0.0</td>\n",
              "      <td>0.0</td>\n",
              "      <td>0.0</td>\n",
              "      <td>0.0</td>\n",
              "      <td>0.0</td>\n",
              "      <td>0.0</td>\n",
              "      <td>0.0</td>\n",
              "      <td>0.0</td>\n",
              "      <td>0.0</td>\n",
              "      <td>...</td>\n",
              "      <td>0.0</td>\n",
              "      <td>0.0</td>\n",
              "      <td>0.0</td>\n",
              "      <td>0.0</td>\n",
              "      <td>0.0</td>\n",
              "      <td>0.0</td>\n",
              "      <td>0.0</td>\n",
              "      <td>0.0</td>\n",
              "      <td>0.0</td>\n",
              "      <td>0.0</td>\n",
              "    </tr>\n",
              "    <tr>\n",
              "      <th>...</th>\n",
              "      <td>...</td>\n",
              "      <td>...</td>\n",
              "      <td>...</td>\n",
              "      <td>...</td>\n",
              "      <td>...</td>\n",
              "      <td>...</td>\n",
              "      <td>...</td>\n",
              "      <td>...</td>\n",
              "      <td>...</td>\n",
              "      <td>...</td>\n",
              "      <td>...</td>\n",
              "      <td>...</td>\n",
              "      <td>...</td>\n",
              "      <td>...</td>\n",
              "      <td>...</td>\n",
              "      <td>...</td>\n",
              "      <td>...</td>\n",
              "      <td>...</td>\n",
              "      <td>...</td>\n",
              "      <td>...</td>\n",
              "      <td>...</td>\n",
              "    </tr>\n",
              "    <tr>\n",
              "      <th>5166</th>\n",
              "      <td>0.0</td>\n",
              "      <td>0.0</td>\n",
              "      <td>0.0</td>\n",
              "      <td>0.0</td>\n",
              "      <td>0.0</td>\n",
              "      <td>0.0</td>\n",
              "      <td>0.0</td>\n",
              "      <td>0.0</td>\n",
              "      <td>0.0</td>\n",
              "      <td>0.0</td>\n",
              "      <td>...</td>\n",
              "      <td>0.0</td>\n",
              "      <td>0.0</td>\n",
              "      <td>0.0</td>\n",
              "      <td>0.0</td>\n",
              "      <td>0.0</td>\n",
              "      <td>0.0</td>\n",
              "      <td>0.0</td>\n",
              "      <td>0.0</td>\n",
              "      <td>0.0</td>\n",
              "      <td>0.0</td>\n",
              "    </tr>\n",
              "    <tr>\n",
              "      <th>5167</th>\n",
              "      <td>0.0</td>\n",
              "      <td>0.0</td>\n",
              "      <td>0.0</td>\n",
              "      <td>0.0</td>\n",
              "      <td>0.0</td>\n",
              "      <td>0.0</td>\n",
              "      <td>0.0</td>\n",
              "      <td>0.0</td>\n",
              "      <td>0.0</td>\n",
              "      <td>0.0</td>\n",
              "      <td>...</td>\n",
              "      <td>0.0</td>\n",
              "      <td>0.0</td>\n",
              "      <td>0.0</td>\n",
              "      <td>0.0</td>\n",
              "      <td>0.0</td>\n",
              "      <td>0.0</td>\n",
              "      <td>0.0</td>\n",
              "      <td>0.0</td>\n",
              "      <td>0.0</td>\n",
              "      <td>0.0</td>\n",
              "    </tr>\n",
              "    <tr>\n",
              "      <th>5168</th>\n",
              "      <td>0.0</td>\n",
              "      <td>0.0</td>\n",
              "      <td>0.0</td>\n",
              "      <td>0.0</td>\n",
              "      <td>0.0</td>\n",
              "      <td>0.0</td>\n",
              "      <td>0.0</td>\n",
              "      <td>0.0</td>\n",
              "      <td>0.0</td>\n",
              "      <td>0.0</td>\n",
              "      <td>...</td>\n",
              "      <td>0.0</td>\n",
              "      <td>0.0</td>\n",
              "      <td>0.0</td>\n",
              "      <td>0.0</td>\n",
              "      <td>0.0</td>\n",
              "      <td>0.0</td>\n",
              "      <td>0.0</td>\n",
              "      <td>0.0</td>\n",
              "      <td>0.0</td>\n",
              "      <td>0.0</td>\n",
              "    </tr>\n",
              "    <tr>\n",
              "      <th>5169</th>\n",
              "      <td>0.0</td>\n",
              "      <td>0.0</td>\n",
              "      <td>0.0</td>\n",
              "      <td>0.0</td>\n",
              "      <td>0.0</td>\n",
              "      <td>0.0</td>\n",
              "      <td>0.0</td>\n",
              "      <td>0.0</td>\n",
              "      <td>0.0</td>\n",
              "      <td>0.0</td>\n",
              "      <td>...</td>\n",
              "      <td>0.0</td>\n",
              "      <td>0.0</td>\n",
              "      <td>0.0</td>\n",
              "      <td>0.0</td>\n",
              "      <td>0.0</td>\n",
              "      <td>0.0</td>\n",
              "      <td>0.0</td>\n",
              "      <td>0.0</td>\n",
              "      <td>0.0</td>\n",
              "      <td>0.0</td>\n",
              "    </tr>\n",
              "    <tr>\n",
              "      <th>5170</th>\n",
              "      <td>0.0</td>\n",
              "      <td>0.0</td>\n",
              "      <td>0.0</td>\n",
              "      <td>0.0</td>\n",
              "      <td>0.0</td>\n",
              "      <td>0.0</td>\n",
              "      <td>0.0</td>\n",
              "      <td>0.0</td>\n",
              "      <td>0.0</td>\n",
              "      <td>0.0</td>\n",
              "      <td>...</td>\n",
              "      <td>0.0</td>\n",
              "      <td>0.0</td>\n",
              "      <td>0.0</td>\n",
              "      <td>0.0</td>\n",
              "      <td>0.0</td>\n",
              "      <td>0.0</td>\n",
              "      <td>0.0</td>\n",
              "      <td>0.0</td>\n",
              "      <td>0.0</td>\n",
              "      <td>0.0</td>\n",
              "    </tr>\n",
              "  </tbody>\n",
              "</table>\n",
              "<p>5171 rows × 10376 columns</p>\n",
              "</div>\n",
              "      <button class=\"colab-df-convert\" onclick=\"convertToInteractive('df-f26fcfb3-e642-4713-961f-8d02ac6ab47f')\"\n",
              "              title=\"Convert this dataframe to an interactive table.\"\n",
              "              style=\"display:none;\">\n",
              "        \n",
              "  <svg xmlns=\"http://www.w3.org/2000/svg\" height=\"24px\"viewBox=\"0 0 24 24\"\n",
              "       width=\"24px\">\n",
              "    <path d=\"M0 0h24v24H0V0z\" fill=\"none\"/>\n",
              "    <path d=\"M18.56 5.44l.94 2.06.94-2.06 2.06-.94-2.06-.94-.94-2.06-.94 2.06-2.06.94zm-11 1L8.5 8.5l.94-2.06 2.06-.94-2.06-.94L8.5 2.5l-.94 2.06-2.06.94zm10 10l.94 2.06.94-2.06 2.06-.94-2.06-.94-.94-2.06-.94 2.06-2.06.94z\"/><path d=\"M17.41 7.96l-1.37-1.37c-.4-.4-.92-.59-1.43-.59-.52 0-1.04.2-1.43.59L10.3 9.45l-7.72 7.72c-.78.78-.78 2.05 0 2.83L4 21.41c.39.39.9.59 1.41.59.51 0 1.02-.2 1.41-.59l7.78-7.78 2.81-2.81c.8-.78.8-2.07 0-2.86zM5.41 20L4 18.59l7.72-7.72 1.47 1.35L5.41 20z\"/>\n",
              "  </svg>\n",
              "      </button>\n",
              "      \n",
              "  <style>\n",
              "    .colab-df-container {\n",
              "      display:flex;\n",
              "      flex-wrap:wrap;\n",
              "      gap: 12px;\n",
              "    }\n",
              "\n",
              "    .colab-df-convert {\n",
              "      background-color: #E8F0FE;\n",
              "      border: none;\n",
              "      border-radius: 50%;\n",
              "      cursor: pointer;\n",
              "      display: none;\n",
              "      fill: #1967D2;\n",
              "      height: 32px;\n",
              "      padding: 0 0 0 0;\n",
              "      width: 32px;\n",
              "    }\n",
              "\n",
              "    .colab-df-convert:hover {\n",
              "      background-color: #E2EBFA;\n",
              "      box-shadow: 0px 1px 2px rgba(60, 64, 67, 0.3), 0px 1px 3px 1px rgba(60, 64, 67, 0.15);\n",
              "      fill: #174EA6;\n",
              "    }\n",
              "\n",
              "    [theme=dark] .colab-df-convert {\n",
              "      background-color: #3B4455;\n",
              "      fill: #D2E3FC;\n",
              "    }\n",
              "\n",
              "    [theme=dark] .colab-df-convert:hover {\n",
              "      background-color: #434B5C;\n",
              "      box-shadow: 0px 1px 3px 1px rgba(0, 0, 0, 0.15);\n",
              "      filter: drop-shadow(0px 1px 2px rgba(0, 0, 0, 0.3));\n",
              "      fill: #FFFFFF;\n",
              "    }\n",
              "  </style>\n",
              "\n",
              "      <script>\n",
              "        const buttonEl =\n",
              "          document.querySelector('#df-f26fcfb3-e642-4713-961f-8d02ac6ab47f button.colab-df-convert');\n",
              "        buttonEl.style.display =\n",
              "          google.colab.kernel.accessAllowed ? 'block' : 'none';\n",
              "\n",
              "        async function convertToInteractive(key) {\n",
              "          const element = document.querySelector('#df-f26fcfb3-e642-4713-961f-8d02ac6ab47f');\n",
              "          const dataTable =\n",
              "            await google.colab.kernel.invokeFunction('convertToInteractive',\n",
              "                                                     [key], {});\n",
              "          if (!dataTable) return;\n",
              "\n",
              "          const docLinkHtml = 'Like what you see? Visit the ' +\n",
              "            '<a target=\"_blank\" href=https://colab.research.google.com/notebooks/data_table.ipynb>data table notebook</a>'\n",
              "            + ' to learn more about interactive tables.';\n",
              "          element.innerHTML = '';\n",
              "          dataTable['output_type'] = 'display_data';\n",
              "          await google.colab.output.renderOutput(dataTable, element);\n",
              "          const docLink = document.createElement('div');\n",
              "          docLink.innerHTML = docLinkHtml;\n",
              "          element.appendChild(docLink);\n",
              "        }\n",
              "      </script>\n",
              "    </div>\n",
              "  </div>\n",
              "  "
            ]
          },
          "metadata": {},
          "execution_count": 9
        }
      ]
    },
    {
      "cell_type": "code",
      "source": [
        "MDT.describe()"
      ],
      "metadata": {
        "colab": {
          "base_uri": "https://localhost:8080/",
          "height": 393
        },
        "id": "ueBbTDAdRc73",
        "outputId": "0cc0c457-5730-4f57-ef2c-ae19ba9abaa8"
      },
      "execution_count": null,
      "outputs": [
        {
          "output_type": "execute_result",
          "data": {
            "text/plain": [
              "                aa      aalland        aaron           ab          aba  \\\n",
              "count  5171.000000  5171.000000  5171.000000  5171.000000  5171.000000   \n",
              "mean      0.000557     0.000023     0.000046     0.000272     0.000125   \n",
              "std       0.011533     0.000980     0.001798     0.008046     0.003935   \n",
              "min       0.000000     0.000000     0.000000     0.000000     0.000000   \n",
              "25%       0.000000     0.000000     0.000000     0.000000     0.000000   \n",
              "50%       0.000000     0.000000     0.000000     0.000000     0.000000   \n",
              "75%       0.000000     0.000000     0.000000     0.000000     0.000000   \n",
              "max       0.545314     0.046850     0.109319     0.296534     0.166888   \n",
              "\n",
              "             aback        abacu   abacustech      abandon        abash  ...  \\\n",
              "count  5171.000000  5171.000000  5171.000000  5171.000000  5171.000000  ...   \n",
              "mean      0.000052     0.000253     0.000560     0.000032     0.000075  ...   \n",
              "std       0.002281     0.006873     0.014691     0.001418     0.003594  ...   \n",
              "min       0.000000     0.000000     0.000000     0.000000     0.000000  ...   \n",
              "25%       0.000000     0.000000     0.000000     0.000000     0.000000  ...   \n",
              "50%       0.000000     0.000000     0.000000     0.000000     0.000000  ...   \n",
              "75%       0.000000     0.000000     0.000000     0.000000     0.000000  ...   \n",
              "max       0.131470     0.235011     0.470023     0.082434     0.234550  ...   \n",
              "\n",
              "            zodiac       zoloft         zone    zonedubai      zonewww  \\\n",
              "count  5171.000000  5171.000000  5171.000000  5171.000000  5171.000000   \n",
              "mean      0.000164     0.000162     0.001978     0.000394     0.000040   \n",
              "std       0.007003     0.005369     0.018518     0.004780     0.001742   \n",
              "min       0.000000     0.000000     0.000000     0.000000     0.000000   \n",
              "25%       0.000000     0.000000     0.000000     0.000000     0.000000   \n",
              "50%       0.000000     0.000000     0.000000     0.000000     0.000000   \n",
              "75%       0.000000     0.000000     0.000000     0.000000     0.000000   \n",
              "max       0.381235     0.217112     0.349877     0.078336     0.088502   \n",
              "\n",
              "                zs           zu       zurich      zwallet        zyban  \n",
              "count  5171.000000  5171.000000  5171.000000  5171.000000  5171.000000  \n",
              "mean      0.000119     0.000220     0.000061     0.000066     0.000417  \n",
              "std       0.006335     0.008169     0.002677     0.002839     0.008319  \n",
              "min       0.000000     0.000000     0.000000     0.000000     0.000000  \n",
              "25%       0.000000     0.000000     0.000000     0.000000     0.000000  \n",
              "50%       0.000000     0.000000     0.000000     0.000000     0.000000  \n",
              "75%       0.000000     0.000000     0.000000     0.000000     0.000000  \n",
              "max       0.438051     0.462291     0.153084     0.144276     0.316011  \n",
              "\n",
              "[8 rows x 10376 columns]"
            ],
            "text/html": [
              "\n",
              "  <div id=\"df-a8132abc-c737-4e3a-b6e8-b32f58b0b0a5\">\n",
              "    <div class=\"colab-df-container\">\n",
              "      <div>\n",
              "<style scoped>\n",
              "    .dataframe tbody tr th:only-of-type {\n",
              "        vertical-align: middle;\n",
              "    }\n",
              "\n",
              "    .dataframe tbody tr th {\n",
              "        vertical-align: top;\n",
              "    }\n",
              "\n",
              "    .dataframe thead th {\n",
              "        text-align: right;\n",
              "    }\n",
              "</style>\n",
              "<table border=\"1\" class=\"dataframe\">\n",
              "  <thead>\n",
              "    <tr style=\"text-align: right;\">\n",
              "      <th></th>\n",
              "      <th>aa</th>\n",
              "      <th>aalland</th>\n",
              "      <th>aaron</th>\n",
              "      <th>ab</th>\n",
              "      <th>aba</th>\n",
              "      <th>aback</th>\n",
              "      <th>abacu</th>\n",
              "      <th>abacustech</th>\n",
              "      <th>abandon</th>\n",
              "      <th>abash</th>\n",
              "      <th>...</th>\n",
              "      <th>zodiac</th>\n",
              "      <th>zoloft</th>\n",
              "      <th>zone</th>\n",
              "      <th>zonedubai</th>\n",
              "      <th>zonewww</th>\n",
              "      <th>zs</th>\n",
              "      <th>zu</th>\n",
              "      <th>zurich</th>\n",
              "      <th>zwallet</th>\n",
              "      <th>zyban</th>\n",
              "    </tr>\n",
              "  </thead>\n",
              "  <tbody>\n",
              "    <tr>\n",
              "      <th>count</th>\n",
              "      <td>5171.000000</td>\n",
              "      <td>5171.000000</td>\n",
              "      <td>5171.000000</td>\n",
              "      <td>5171.000000</td>\n",
              "      <td>5171.000000</td>\n",
              "      <td>5171.000000</td>\n",
              "      <td>5171.000000</td>\n",
              "      <td>5171.000000</td>\n",
              "      <td>5171.000000</td>\n",
              "      <td>5171.000000</td>\n",
              "      <td>...</td>\n",
              "      <td>5171.000000</td>\n",
              "      <td>5171.000000</td>\n",
              "      <td>5171.000000</td>\n",
              "      <td>5171.000000</td>\n",
              "      <td>5171.000000</td>\n",
              "      <td>5171.000000</td>\n",
              "      <td>5171.000000</td>\n",
              "      <td>5171.000000</td>\n",
              "      <td>5171.000000</td>\n",
              "      <td>5171.000000</td>\n",
              "    </tr>\n",
              "    <tr>\n",
              "      <th>mean</th>\n",
              "      <td>0.000557</td>\n",
              "      <td>0.000023</td>\n",
              "      <td>0.000046</td>\n",
              "      <td>0.000272</td>\n",
              "      <td>0.000125</td>\n",
              "      <td>0.000052</td>\n",
              "      <td>0.000253</td>\n",
              "      <td>0.000560</td>\n",
              "      <td>0.000032</td>\n",
              "      <td>0.000075</td>\n",
              "      <td>...</td>\n",
              "      <td>0.000164</td>\n",
              "      <td>0.000162</td>\n",
              "      <td>0.001978</td>\n",
              "      <td>0.000394</td>\n",
              "      <td>0.000040</td>\n",
              "      <td>0.000119</td>\n",
              "      <td>0.000220</td>\n",
              "      <td>0.000061</td>\n",
              "      <td>0.000066</td>\n",
              "      <td>0.000417</td>\n",
              "    </tr>\n",
              "    <tr>\n",
              "      <th>std</th>\n",
              "      <td>0.011533</td>\n",
              "      <td>0.000980</td>\n",
              "      <td>0.001798</td>\n",
              "      <td>0.008046</td>\n",
              "      <td>0.003935</td>\n",
              "      <td>0.002281</td>\n",
              "      <td>0.006873</td>\n",
              "      <td>0.014691</td>\n",
              "      <td>0.001418</td>\n",
              "      <td>0.003594</td>\n",
              "      <td>...</td>\n",
              "      <td>0.007003</td>\n",
              "      <td>0.005369</td>\n",
              "      <td>0.018518</td>\n",
              "      <td>0.004780</td>\n",
              "      <td>0.001742</td>\n",
              "      <td>0.006335</td>\n",
              "      <td>0.008169</td>\n",
              "      <td>0.002677</td>\n",
              "      <td>0.002839</td>\n",
              "      <td>0.008319</td>\n",
              "    </tr>\n",
              "    <tr>\n",
              "      <th>min</th>\n",
              "      <td>0.000000</td>\n",
              "      <td>0.000000</td>\n",
              "      <td>0.000000</td>\n",
              "      <td>0.000000</td>\n",
              "      <td>0.000000</td>\n",
              "      <td>0.000000</td>\n",
              "      <td>0.000000</td>\n",
              "      <td>0.000000</td>\n",
              "      <td>0.000000</td>\n",
              "      <td>0.000000</td>\n",
              "      <td>...</td>\n",
              "      <td>0.000000</td>\n",
              "      <td>0.000000</td>\n",
              "      <td>0.000000</td>\n",
              "      <td>0.000000</td>\n",
              "      <td>0.000000</td>\n",
              "      <td>0.000000</td>\n",
              "      <td>0.000000</td>\n",
              "      <td>0.000000</td>\n",
              "      <td>0.000000</td>\n",
              "      <td>0.000000</td>\n",
              "    </tr>\n",
              "    <tr>\n",
              "      <th>25%</th>\n",
              "      <td>0.000000</td>\n",
              "      <td>0.000000</td>\n",
              "      <td>0.000000</td>\n",
              "      <td>0.000000</td>\n",
              "      <td>0.000000</td>\n",
              "      <td>0.000000</td>\n",
              "      <td>0.000000</td>\n",
              "      <td>0.000000</td>\n",
              "      <td>0.000000</td>\n",
              "      <td>0.000000</td>\n",
              "      <td>...</td>\n",
              "      <td>0.000000</td>\n",
              "      <td>0.000000</td>\n",
              "      <td>0.000000</td>\n",
              "      <td>0.000000</td>\n",
              "      <td>0.000000</td>\n",
              "      <td>0.000000</td>\n",
              "      <td>0.000000</td>\n",
              "      <td>0.000000</td>\n",
              "      <td>0.000000</td>\n",
              "      <td>0.000000</td>\n",
              "    </tr>\n",
              "    <tr>\n",
              "      <th>50%</th>\n",
              "      <td>0.000000</td>\n",
              "      <td>0.000000</td>\n",
              "      <td>0.000000</td>\n",
              "      <td>0.000000</td>\n",
              "      <td>0.000000</td>\n",
              "      <td>0.000000</td>\n",
              "      <td>0.000000</td>\n",
              "      <td>0.000000</td>\n",
              "      <td>0.000000</td>\n",
              "      <td>0.000000</td>\n",
              "      <td>...</td>\n",
              "      <td>0.000000</td>\n",
              "      <td>0.000000</td>\n",
              "      <td>0.000000</td>\n",
              "      <td>0.000000</td>\n",
              "      <td>0.000000</td>\n",
              "      <td>0.000000</td>\n",
              "      <td>0.000000</td>\n",
              "      <td>0.000000</td>\n",
              "      <td>0.000000</td>\n",
              "      <td>0.000000</td>\n",
              "    </tr>\n",
              "    <tr>\n",
              "      <th>75%</th>\n",
              "      <td>0.000000</td>\n",
              "      <td>0.000000</td>\n",
              "      <td>0.000000</td>\n",
              "      <td>0.000000</td>\n",
              "      <td>0.000000</td>\n",
              "      <td>0.000000</td>\n",
              "      <td>0.000000</td>\n",
              "      <td>0.000000</td>\n",
              "      <td>0.000000</td>\n",
              "      <td>0.000000</td>\n",
              "      <td>...</td>\n",
              "      <td>0.000000</td>\n",
              "      <td>0.000000</td>\n",
              "      <td>0.000000</td>\n",
              "      <td>0.000000</td>\n",
              "      <td>0.000000</td>\n",
              "      <td>0.000000</td>\n",
              "      <td>0.000000</td>\n",
              "      <td>0.000000</td>\n",
              "      <td>0.000000</td>\n",
              "      <td>0.000000</td>\n",
              "    </tr>\n",
              "    <tr>\n",
              "      <th>max</th>\n",
              "      <td>0.545314</td>\n",
              "      <td>0.046850</td>\n",
              "      <td>0.109319</td>\n",
              "      <td>0.296534</td>\n",
              "      <td>0.166888</td>\n",
              "      <td>0.131470</td>\n",
              "      <td>0.235011</td>\n",
              "      <td>0.470023</td>\n",
              "      <td>0.082434</td>\n",
              "      <td>0.234550</td>\n",
              "      <td>...</td>\n",
              "      <td>0.381235</td>\n",
              "      <td>0.217112</td>\n",
              "      <td>0.349877</td>\n",
              "      <td>0.078336</td>\n",
              "      <td>0.088502</td>\n",
              "      <td>0.438051</td>\n",
              "      <td>0.462291</td>\n",
              "      <td>0.153084</td>\n",
              "      <td>0.144276</td>\n",
              "      <td>0.316011</td>\n",
              "    </tr>\n",
              "  </tbody>\n",
              "</table>\n",
              "<p>8 rows × 10376 columns</p>\n",
              "</div>\n",
              "      <button class=\"colab-df-convert\" onclick=\"convertToInteractive('df-a8132abc-c737-4e3a-b6e8-b32f58b0b0a5')\"\n",
              "              title=\"Convert this dataframe to an interactive table.\"\n",
              "              style=\"display:none;\">\n",
              "        \n",
              "  <svg xmlns=\"http://www.w3.org/2000/svg\" height=\"24px\"viewBox=\"0 0 24 24\"\n",
              "       width=\"24px\">\n",
              "    <path d=\"M0 0h24v24H0V0z\" fill=\"none\"/>\n",
              "    <path d=\"M18.56 5.44l.94 2.06.94-2.06 2.06-.94-2.06-.94-.94-2.06-.94 2.06-2.06.94zm-11 1L8.5 8.5l.94-2.06 2.06-.94-2.06-.94L8.5 2.5l-.94 2.06-2.06.94zm10 10l.94 2.06.94-2.06 2.06-.94-2.06-.94-.94-2.06-.94 2.06-2.06.94z\"/><path d=\"M17.41 7.96l-1.37-1.37c-.4-.4-.92-.59-1.43-.59-.52 0-1.04.2-1.43.59L10.3 9.45l-7.72 7.72c-.78.78-.78 2.05 0 2.83L4 21.41c.39.39.9.59 1.41.59.51 0 1.02-.2 1.41-.59l7.78-7.78 2.81-2.81c.8-.78.8-2.07 0-2.86zM5.41 20L4 18.59l7.72-7.72 1.47 1.35L5.41 20z\"/>\n",
              "  </svg>\n",
              "      </button>\n",
              "      \n",
              "  <style>\n",
              "    .colab-df-container {\n",
              "      display:flex;\n",
              "      flex-wrap:wrap;\n",
              "      gap: 12px;\n",
              "    }\n",
              "\n",
              "    .colab-df-convert {\n",
              "      background-color: #E8F0FE;\n",
              "      border: none;\n",
              "      border-radius: 50%;\n",
              "      cursor: pointer;\n",
              "      display: none;\n",
              "      fill: #1967D2;\n",
              "      height: 32px;\n",
              "      padding: 0 0 0 0;\n",
              "      width: 32px;\n",
              "    }\n",
              "\n",
              "    .colab-df-convert:hover {\n",
              "      background-color: #E2EBFA;\n",
              "      box-shadow: 0px 1px 2px rgba(60, 64, 67, 0.3), 0px 1px 3px 1px rgba(60, 64, 67, 0.15);\n",
              "      fill: #174EA6;\n",
              "    }\n",
              "\n",
              "    [theme=dark] .colab-df-convert {\n",
              "      background-color: #3B4455;\n",
              "      fill: #D2E3FC;\n",
              "    }\n",
              "\n",
              "    [theme=dark] .colab-df-convert:hover {\n",
              "      background-color: #434B5C;\n",
              "      box-shadow: 0px 1px 3px 1px rgba(0, 0, 0, 0.15);\n",
              "      filter: drop-shadow(0px 1px 2px rgba(0, 0, 0, 0.3));\n",
              "      fill: #FFFFFF;\n",
              "    }\n",
              "  </style>\n",
              "\n",
              "      <script>\n",
              "        const buttonEl =\n",
              "          document.querySelector('#df-a8132abc-c737-4e3a-b6e8-b32f58b0b0a5 button.colab-df-convert');\n",
              "        buttonEl.style.display =\n",
              "          google.colab.kernel.accessAllowed ? 'block' : 'none';\n",
              "\n",
              "        async function convertToInteractive(key) {\n",
              "          const element = document.querySelector('#df-a8132abc-c737-4e3a-b6e8-b32f58b0b0a5');\n",
              "          const dataTable =\n",
              "            await google.colab.kernel.invokeFunction('convertToInteractive',\n",
              "                                                     [key], {});\n",
              "          if (!dataTable) return;\n",
              "\n",
              "          const docLinkHtml = 'Like what you see? Visit the ' +\n",
              "            '<a target=\"_blank\" href=https://colab.research.google.com/notebooks/data_table.ipynb>data table notebook</a>'\n",
              "            + ' to learn more about interactive tables.';\n",
              "          element.innerHTML = '';\n",
              "          dataTable['output_type'] = 'display_data';\n",
              "          await google.colab.output.renderOutput(dataTable, element);\n",
              "          const docLink = document.createElement('div');\n",
              "          docLink.innerHTML = docLinkHtml;\n",
              "          element.appendChild(docLink);\n",
              "        }\n",
              "      </script>\n",
              "    </div>\n",
              "  </div>\n",
              "  "
            ]
          },
          "metadata": {},
          "execution_count": 10
        }
      ]
    },
    {
      "cell_type": "markdown",
      "metadata": {
        "id": "bcpeYCyCAws2"
      },
      "source": [
        "### Dividir conjunto de entrenamiento y prueba"
      ]
    },
    {
      "cell_type": "code",
      "metadata": {
        "id": "JhP0EnQSBEv0",
        "colab": {
          "base_uri": "https://localhost:8080/"
        },
        "outputId": "55c3fdaa-5fda-4dcf-de13-d4a0100f58cc"
      },
      "source": [
        "X = mdt_tfidf.toarray()\n",
        "y = datos['spam']\n",
        "\n",
        "print(X)\n"
      ],
      "execution_count": null,
      "outputs": [
        {
          "output_type": "stream",
          "name": "stdout",
          "text": [
            "[[0. 0. 0. ... 0. 0. 0.]\n",
            " [0. 0. 0. ... 0. 0. 0.]\n",
            " [0. 0. 0. ... 0. 0. 0.]\n",
            " ...\n",
            " [0. 0. 0. ... 0. 0. 0.]\n",
            " [0. 0. 0. ... 0. 0. 0.]\n",
            " [0. 0. 0. ... 0. 0. 0.]]\n"
          ]
        }
      ]
    },
    {
      "cell_type": "code",
      "source": [
        "y"
      ],
      "metadata": {
        "colab": {
          "base_uri": "https://localhost:8080/"
        },
        "id": "sPgI2uKHbMlc",
        "outputId": "e0922621-4e33-46a9-ee8c-618dac6d4b05"
      },
      "execution_count": null,
      "outputs": [
        {
          "output_type": "execute_result",
          "data": {
            "text/plain": [
              "0       0\n",
              "1       0\n",
              "2       0\n",
              "3       1\n",
              "4       0\n",
              "       ..\n",
              "5166    0\n",
              "5167    0\n",
              "5168    0\n",
              "5169    0\n",
              "5170    1\n",
              "Name: spam, Length: 5171, dtype: int64"
            ]
          },
          "metadata": {},
          "execution_count": 12
        }
      ]
    },
    {
      "cell_type": "code",
      "metadata": {
        "id": "P5cxknURA7oM"
      },
      "source": [
        "X_train, X_test , y_train, y_test = train_test_split(X, y, test_size=0.2,\n",
        "                                                     random_state=3)"
      ],
      "execution_count": null,
      "outputs": []
    },
    {
      "cell_type": "code",
      "metadata": {
        "id": "YXPtxsn9DDmY",
        "colab": {
          "base_uri": "https://localhost:8080/"
        },
        "outputId": "a967c1c0-df5f-4cc7-a704-9fc2dd2d47f8"
      },
      "source": [
        "#Conjunto de entrenamiento\n",
        "X_train.shape, y_train.shape"
      ],
      "execution_count": null,
      "outputs": [
        {
          "output_type": "execute_result",
          "data": {
            "text/plain": [
              "((4136, 10376), (4136,))"
            ]
          },
          "metadata": {},
          "execution_count": 14
        }
      ]
    },
    {
      "cell_type": "code",
      "metadata": {
        "id": "9m7lzaudDS4m",
        "colab": {
          "base_uri": "https://localhost:8080/"
        },
        "outputId": "080d5b75-b618-4a03-a9dc-c1024fe75846"
      },
      "source": [
        "#Conjunto de prueba\n",
        "X_test.shape, y_test.shape"
      ],
      "execution_count": null,
      "outputs": [
        {
          "output_type": "execute_result",
          "data": {
            "text/plain": [
              "((1035, 10376), (1035,))"
            ]
          },
          "metadata": {},
          "execution_count": 15
        }
      ]
    },
    {
      "cell_type": "markdown",
      "metadata": {
        "id": "5UHJqliwDqm3"
      },
      "source": [
        "### Diseño del modelo de red neuronal usando TensorFlow"
      ]
    },
    {
      "cell_type": "code",
      "metadata": {
        "id": "qjgqDLdOUi1r",
        "colab": {
          "base_uri": "https://localhost:8080/"
        },
        "outputId": "8c4dfaa6-a479-41c2-8112-01f4ca19d9f9"
      },
      "source": [
        "import tensorflow as tf\n",
        "print(tf.__version__)"
      ],
      "execution_count": null,
      "outputs": [
        {
          "output_type": "stream",
          "name": "stdout",
          "text": [
            "2.12.0\n"
          ]
        }
      ]
    },
    {
      "cell_type": "markdown",
      "metadata": {
        "id": "uPAq3gAuWX3Z"
      },
      "source": [
        "\n",
        "\n",
        "TensorFlow y Keras, ambos proyectos para el aprendizaje profundo,tienen una historia entrelazada. Keras era un conjunto de abstracciones que facilita el aprendizaje profundo, pero necesitada de un backend, desde la versión de Keras v1.1.0 TensorFlow fue el backend predeterminado (antes era Theano).\n",
        "\n",
        "A partir del lanzamiento de TensorFlow a mediados de 2019, Keras es ahora la API de alto nivel de TensorFlow para facilitar el diseño y entrenamiento de modelos rápidos y fáciles.\n",
        "\n",
        "[Video sobre TensorFlow 2.0](https://www.youtube.com/watch?v=EqWsPO8DVXk)"
      ]
    },
    {
      "cell_type": "code",
      "metadata": {
        "id": "QKxI5MTNQ29i",
        "colab": {
          "base_uri": "https://localhost:8080/"
        },
        "outputId": "dffc2c86-0497-43f7-a28a-b095c24b0a97"
      },
      "source": [
        "model = tf.keras.Sequential([                     # https://www.tensorflow.org/guide/keras/sequential_model\n",
        "\n",
        "        tf.keras.Input(shape=(X.shape[1],)),              # El número de neuronas en la capa de entrada es igual al número de características o dimensiones en los datos.\n",
        "\n",
        "        tf.keras.layers.Dense(\n",
        "                              1,                     # dimensiones de salida\n",
        "                              activation='sigmoid',  # función de activación  https://www.tensorflow.org/api_docs/python/tf/keras/activations\n",
        "                              name=\"layer_1\"         # nombre de la capa\n",
        "\n",
        "                              )\n",
        "])\n",
        "model.summary()"
      ],
      "execution_count": null,
      "outputs": [
        {
          "output_type": "stream",
          "name": "stdout",
          "text": [
            "Model: \"sequential\"\n",
            "_________________________________________________________________\n",
            " Layer (type)                Output Shape              Param #   \n",
            "=================================================================\n",
            " layer_1 (Dense)             (None, 1)                 10377     \n",
            "                                                                 \n",
            "=================================================================\n",
            "Total params: 10,377\n",
            "Trainable params: 10,377\n",
            "Non-trainable params: 0\n",
            "_________________________________________________________________\n"
          ]
        }
      ]
    },
    {
      "cell_type": "markdown",
      "source": [
        "### Alternativas para inicializar una red Secuencial"
      ],
      "metadata": {
        "id": "PoA14qd4I49w"
      }
    },
    {
      "cell_type": "markdown",
      "metadata": {
        "id": "RKD8TCnERdjN"
      },
      "source": [
        "Una alternativa para establecer las dimensiones de entrada en la primera capa es utilizar el parámetro `input_shape`"
      ]
    },
    {
      "cell_type": "code",
      "metadata": {
        "id": "fSAJv-bJUoNn",
        "colab": {
          "base_uri": "https://localhost:8080/"
        },
        "outputId": "24a4af98-572e-49ef-fa95-86b28eb01492"
      },
      "source": [
        "model = tf.keras.Sequential([\n",
        "\n",
        "          tf.keras.layers.Dense(1,\n",
        "                                input_shape = (X.shape[1],),      # dimensiones de la entrada\n",
        "                                activation='sigmoid',             # para la regresión logística\n",
        "                                name=\"layer_1\"                    # nombre de la capa\n",
        "                                ),\n",
        "])\n",
        "model.summary()"
      ],
      "execution_count": null,
      "outputs": [
        {
          "output_type": "stream",
          "name": "stdout",
          "text": [
            "Model: \"sequential_1\"\n",
            "_________________________________________________________________\n",
            " Layer (type)                Output Shape              Param #   \n",
            "=================================================================\n",
            " layer_1 (Dense)             (None, 1)                 10377     \n",
            "                                                                 \n",
            "=================================================================\n",
            "Total params: 10,377\n",
            "Trainable params: 10,377\n",
            "Non-trainable params: 0\n",
            "_________________________________________________________________\n"
          ]
        }
      ]
    },
    {
      "cell_type": "markdown",
      "metadata": {
        "id": "CHjpA_I3P92N"
      },
      "source": [
        "Otra manera de construir un modelo secuencial es declararlo y a continuación añadir capas utilizando el método `add`"
      ]
    },
    {
      "cell_type": "code",
      "metadata": {
        "id": "75thWRxDPzBh",
        "colab": {
          "base_uri": "https://localhost:8080/"
        },
        "outputId": "1ff73a71-042b-44ca-f403-58ec175f7894"
      },
      "source": [
        "model = tf.keras.Sequential()\n",
        "\n",
        "model.add(tf.keras.Input(shape=(X.shape[1],)))\n",
        "\n",
        "model.add(tf.keras.layers.Dense(1,\n",
        "                                  activation='sigmoid',        # para la regresión logística\n",
        "                                  name=\"layer_1\"\n",
        "                                 ))\n",
        "model.summary()"
      ],
      "execution_count": null,
      "outputs": [
        {
          "output_type": "stream",
          "name": "stdout",
          "text": [
            "Model: \"sequential_2\"\n",
            "_________________________________________________________________\n",
            " Layer (type)                Output Shape              Param #   \n",
            "=================================================================\n",
            " layer_1 (Dense)             (None, 1)                 10377     \n",
            "                                                                 \n",
            "=================================================================\n",
            "Total params: 10,377\n",
            "Trainable params: 10,377\n",
            "Non-trainable params: 0\n",
            "_________________________________________________________________\n"
          ]
        }
      ]
    },
    {
      "cell_type": "markdown",
      "source": [
        "Que es lo mismo a:"
      ],
      "metadata": {
        "id": "q7NV9EbhKcn7"
      }
    },
    {
      "cell_type": "code",
      "source": [
        "model = tf.keras.Sequential()\n",
        "\n",
        "model.add(tf.keras.layers.Dense(1,\n",
        "                                  input_shape = (X.shape[1],),\n",
        "                                  activation='sigmoid',        # para la regresión logística\n",
        "                                  name=\"layer_1\"\n",
        "                                 ))\n",
        "model.summary()"
      ],
      "metadata": {
        "id": "7vC3O9TwKJ8p",
        "colab": {
          "base_uri": "https://localhost:8080/"
        },
        "outputId": "3c9743ee-dd85-461b-82d4-2e10258c1e6d"
      },
      "execution_count": null,
      "outputs": [
        {
          "output_type": "stream",
          "name": "stdout",
          "text": [
            "Model: \"sequential_3\"\n",
            "_________________________________________________________________\n",
            " Layer (type)                Output Shape              Param #   \n",
            "=================================================================\n",
            " layer_1 (Dense)             (None, 1)                 10377     \n",
            "                                                                 \n",
            "=================================================================\n",
            "Total params: 10,377\n",
            "Trainable params: 10,377\n",
            "Non-trainable params: 0\n",
            "_________________________________________________________________\n"
          ]
        }
      ]
    },
    {
      "cell_type": "markdown",
      "source": [
        "### Añadir y borrar capas, consultar número de capas de la red y  visualizar modelo,"
      ],
      "metadata": {
        "id": "2f-krGSoJRwY"
      }
    },
    {
      "cell_type": "code",
      "metadata": {
        "id": "tAxKjodjP6Kk",
        "colab": {
          "base_uri": "https://localhost:8080/"
        },
        "outputId": "40a9e549-388b-45a6-f154-500234e21b17"
      },
      "source": [
        "model.add(tf.keras.layers.Dense(2,\n",
        "                                  activation='softmax',\n",
        "                                  name=\"layer_4\")\n",
        "                                  )\n",
        "model.summary()"
      ],
      "execution_count": null,
      "outputs": [
        {
          "output_type": "stream",
          "name": "stdout",
          "text": [
            "Model: \"sequential_3\"\n",
            "_________________________________________________________________\n",
            " Layer (type)                Output Shape              Param #   \n",
            "=================================================================\n",
            " layer_1 (Dense)             (None, 1)                 10377     \n",
            "                                                                 \n",
            " layer_4 (Dense)             (None, 2)                 4         \n",
            "                                                                 \n",
            "=================================================================\n",
            "Total params: 10,381\n",
            "Trainable params: 10,381\n",
            "Non-trainable params: 0\n",
            "_________________________________________________________________\n"
          ]
        }
      ]
    },
    {
      "cell_type": "code",
      "metadata": {
        "id": "rcvcyUIKPYdl",
        "colab": {
          "base_uri": "https://localhost:8080/"
        },
        "outputId": "2b96624f-cff6-43d7-a392-5140ac1402de"
      },
      "source": [
        "len(model.layers)  # layers es un atributo del modelo que regresa una lista con las capas del modelo"
      ],
      "execution_count": null,
      "outputs": [
        {
          "output_type": "execute_result",
          "data": {
            "text/plain": [
              "2"
            ]
          },
          "metadata": {},
          "execution_count": 22
        }
      ]
    },
    {
      "cell_type": "code",
      "metadata": {
        "id": "uCQHIuKbRp_r",
        "colab": {
          "base_uri": "https://localhost:8080/",
          "height": 121
        },
        "outputId": "7f6c0aff-8b69-4c3e-9c4b-b80840551431"
      },
      "source": [
        "tf.keras.utils.plot_model(\n",
        "    model,\n",
        "    to_file=\"model.png\",\n",
        "    show_shapes=True,\n",
        "    show_dtype=False,\n",
        "    show_layer_names=True,\n",
        "    rankdir=\"LR\",\n",
        "    dpi=96,\n",
        ")"
      ],
      "execution_count": null,
      "outputs": [
        {
          "output_type": "execute_result",
          "data": {
            "image/png": "[encoded data removed]",
            "text/plain": [
              "<IPython.core.display.Image object>"
            ]
          },
          "metadata": {},
          "execution_count": 23
        }
      ]
    },
    {
      "cell_type": "markdown",
      "source": [
        "Para borrar la última capa"
      ],
      "metadata": {
        "id": "HTKKVeUPLhBf"
      }
    },
    {
      "cell_type": "code",
      "metadata": {
        "id": "LJS9U_j2PVeU",
        "colab": {
          "base_uri": "https://localhost:8080/"
        },
        "outputId": "1da56022-ed78-4d62-8335-4c1748cc8c8d"
      },
      "source": [
        "model.pop()    # borra la última capa\n",
        "print(len(model.layers))\n",
        "model.summary()\n"
      ],
      "execution_count": null,
      "outputs": [
        {
          "output_type": "stream",
          "name": "stdout",
          "text": [
            "1\n",
            "Model: \"sequential_3\"\n",
            "_________________________________________________________________\n",
            " Layer (type)                Output Shape              Param #   \n",
            "=================================================================\n",
            " layer_1 (Dense)             (None, 1)                 10377     \n",
            "                                                                 \n",
            "=================================================================\n",
            "Total params: 10,377\n",
            "Trainable params: 10,377\n",
            "Non-trainable params: 0\n",
            "_________________________________________________________________\n"
          ]
        }
      ]
    },
    {
      "cell_type": "markdown",
      "source": [
        "Última manera:"
      ],
      "metadata": {
        "id": "KRdGmTInBx6N"
      }
    },
    {
      "cell_type": "code",
      "source": [
        "inp1 = tf.keras.Input(shape=(X.shape[1],))              # El número de neuronas en la capa de entrada es igual al número de características o dimensiones en los datos.\n",
        "\n",
        "prim = tf.keras.layers.Dense(\n",
        "                    1,                     # dimensiones de salida\n",
        "                    activation='sigmoid',  # función de activación  https://www.tensorflow.org/api_docs/python/tf/keras/activations\n",
        "                    name = 'layer_1'       # nombre de la capa\n",
        "\n",
        "                    )\n",
        "out1 = prim(inp1)\n",
        "\n",
        "seg = tf.keras.layers.Dense(\n",
        "                    2,                     # dimensiones de salida\n",
        "                    activation='sigmoid',  # función de activación  https://www.tensorflow.org/api_docs/python/tf/keras/activations\n",
        "                    name = 'capa_a_eliminar'        # nombre de la capa\n",
        "\n",
        "                    )\n",
        "out2 = seg(out1)\n",
        "\n",
        "ter = tf.keras.layers.Dense(\n",
        "                    1,                     # dimensiones de salida\n",
        "                    activation='softmax',  # función de activación  https://www.tensorflow.org/api_docs/python/tf/keras/activations\n",
        "                    name= 'layer_3'        # nombre de la capa\n",
        "\n",
        "                    )\n",
        "\n",
        "out3 = ter(out2)\n"
      ],
      "metadata": {
        "id": "Gvr9mQEz-RwR"
      },
      "execution_count": null,
      "outputs": []
    },
    {
      "cell_type": "code",
      "source": [
        "model = tf.keras.models.Model(inp1, out3)"
      ],
      "metadata": {
        "id": "7P0Dv3-_--nN"
      },
      "execution_count": null,
      "outputs": []
    },
    {
      "cell_type": "code",
      "source": [
        "model.summary()"
      ],
      "metadata": {
        "colab": {
          "base_uri": "https://localhost:8080/"
        },
        "id": "UvC0Zlrid1s5",
        "outputId": "8ddd1ce2-9517-4c16-e72d-e8a2d9db921a"
      },
      "execution_count": null,
      "outputs": [
        {
          "output_type": "stream",
          "name": "stdout",
          "text": [
            "Model: \"model_3\"\n",
            "_________________________________________________________________\n",
            " Layer (type)                Output Shape              Param #   \n",
            "=================================================================\n",
            " input_5 (InputLayer)        [(None, 10376)]           0         \n",
            "                                                                 \n",
            " layer_1 (Dense)             (None, 1)                 10377     \n",
            "                                                                 \n",
            " capa_a_eliminar (Dense)     (None, 2)                 4         \n",
            "                                                                 \n",
            " layer_3 (Dense)             (None, 1)                 3         \n",
            "                                                                 \n",
            "=================================================================\n",
            "Total params: 10,384\n",
            "Trainable params: 10,384\n",
            "Non-trainable params: 0\n",
            "_________________________________________________________________\n"
          ]
        }
      ]
    },
    {
      "cell_type": "code",
      "source": [
        "tf.keras.utils.plot_model(\n",
        "    model,\n",
        "    to_file=\"model.png\",\n",
        "    show_shapes=True,\n",
        "    show_dtype=False,\n",
        "    show_layer_names=True,\n",
        "    rankdir=\"TD\",\n",
        "    dpi=96,\n",
        ")"
      ],
      "metadata": {
        "id": "jAOvyClD_EbY",
        "colab": {
          "base_uri": "https://localhost:8080/",
          "height": 422
        },
        "outputId": "4e4ccf03-6014-4d16-8c64-2922235860cc"
      },
      "execution_count": null,
      "outputs": [
        {
          "output_type": "execute_result",
          "data": {
            "image/png": "[encoded data removed]",
            "text/plain": [
              "<IPython.core.display.Image object>"
            ]
          },
          "metadata": {},
          "execution_count": 34
        }
      ]
    },
    {
      "cell_type": "markdown",
      "metadata": {
        "id": "bEj4kqqjNfRW"
      },
      "source": [
        "### Entrenamiento y validación\n",
        "\n",
        "Despues de construir la red neuronal se debe configurar el proceso de entrenamiento utilizando el metodo `compile()`\n"
      ]
    },
    {
      "cell_type": "code",
      "metadata": {
        "id": "jUXjspeTIoEE"
      },
      "source": [
        "model.compile(optimizer='adam',             # el optimizador sirve para encontrar los pesos que minimizan la función de pérdida\n",
        "                                            # adam: stochastic gradient descent adaptativo\n",
        "                                            # https://keras.io/api/optimizers/adam/\n",
        "\n",
        "              loss='binary_crossentropy',   # función que evalua que tan bien el algoritmo modela el conjunto de datos\n",
        "                                            # https://keras.io/api/losses/\n",
        "\n",
        "              metrics=['accuracy', 'mae']\n",
        "              )\n"
      ],
      "execution_count": null,
      "outputs": []
    },
    {
      "cell_type": "markdown",
      "source": [
        "Para entrenar el módelo utilizamos el método `fit()`"
      ],
      "metadata": {
        "id": "CjNAquJefitL"
      }
    },
    {
      "cell_type": "markdown",
      "source": [
        "el parámetro epoch se puede usar para buscar minimizar el error, aunque también podemos caer en sobreajuste"
      ],
      "metadata": {
        "id": "wZzOxCgwh8no"
      }
    },
    {
      "cell_type": "code",
      "metadata": {
        "id": "Oh8UVTGfj05x",
        "colab": {
          "base_uri": "https://localhost:8080/"
        },
        "outputId": "f5eef564-4236-4dbb-a344-9aa655f9ca0d"
      },
      "source": [
        "model.fit( X_train, y_train,\n",
        "          epochs=10,         # número de iteraciones sobre los datos (epocas)\n",
        "          batch_size = 32)"
      ],
      "execution_count": null,
      "outputs": [
        {
          "output_type": "stream",
          "name": "stdout",
          "text": [
            "Epoch 1/10\n",
            "130/130 [==============================] - 6s 4ms/step - loss: 0.6460 - accuracy: 0.2884 - mae: 0.7116\n",
            "Epoch 2/10\n",
            "130/130 [==============================] - 1s 4ms/step - loss: 0.6136 - accuracy: 0.2884 - mae: 0.7116\n",
            "Epoch 3/10\n",
            "130/130 [==============================] - 1s 6ms/step - loss: 0.5944 - accuracy: 0.2884 - mae: 0.7116\n",
            "Epoch 4/10\n",
            "130/130 [==============================] - 1s 6ms/step - loss: 0.5800 - accuracy: 0.2884 - mae: 0.7116\n",
            "Epoch 5/10\n",
            "130/130 [==============================] - 1s 6ms/step - loss: 0.5653 - accuracy: 0.2884 - mae: 0.7116\n",
            "Epoch 6/10\n",
            "130/130 [==============================] - 1s 5ms/step - loss: 0.5493 - accuracy: 0.2884 - mae: 0.7116\n",
            "Epoch 7/10\n",
            "130/130 [==============================] - 1s 5ms/step - loss: 0.5324 - accuracy: 0.2884 - mae: 0.7116\n",
            "Epoch 8/10\n",
            "130/130 [==============================] - 1s 6ms/step - loss: 0.5150 - accuracy: 0.2884 - mae: 0.7116\n",
            "Epoch 9/10\n",
            "130/130 [==============================] - 1s 6ms/step - loss: 0.4970 - accuracy: 0.2884 - mae: 0.7116\n",
            "Epoch 10/10\n",
            "130/130 [==============================] - 1s 6ms/step - loss: 0.4783 - accuracy: 0.2884 - mae: 0.7116\n"
          ]
        },
        {
          "output_type": "execute_result",
          "data": {
            "text/plain": [
              "<keras.callbacks.History at 0x7f5251217c70>"
            ]
          },
          "metadata": {},
          "execution_count": 36
        }
      ]
    },
    {
      "cell_type": "markdown",
      "source": [
        "El 130/130 que vemos es el resultado redondeado hacia arriba, de dividir el número de registros en el conjunto de entrenamiento entre 32, que es el parámetro por defaul para batch_size"
      ],
      "metadata": {
        "id": "liMM5qN3h9-o"
      }
    },
    {
      "cell_type": "code",
      "source": [
        "# batch_size\n",
        "X_train.shape[0]/32"
      ],
      "metadata": {
        "id": "MDquaJfihdEa",
        "colab": {
          "base_uri": "https://localhost:8080/"
        },
        "outputId": "881ca49f-c9e2-4517-df59-0e00e34a0fcb"
      },
      "execution_count": null,
      "outputs": [
        {
          "output_type": "execute_result",
          "data": {
            "text/plain": [
              "129.25"
            ]
          },
          "metadata": {},
          "execution_count": 85
        }
      ]
    },
    {
      "cell_type": "markdown",
      "metadata": {
        "id": "AgfMP_nFUQs8"
      },
      "source": [
        "### Red neuronal de clasificación con más de una capa"
      ]
    },
    {
      "cell_type": "code",
      "metadata": {
        "id": "keYY20FtbWiy",
        "colab": {
          "base_uri": "https://localhost:8080/"
        },
        "outputId": "3b0f64c6-45ff-4f9a-aedf-f931ff08a4ec"
      },
      "source": [
        "model = tf.keras.Sequential()\n",
        "\n",
        "model.add((tf.keras.layers.InputLayer(input_shape=(X.shape[1],))))\n",
        "\n",
        "model.add(tf.keras.layers.Dense((2/3 * X.shape[1]  + 1 ), activation='relu',name=\"hidden_layer_1\" ))\n",
        "\n",
        "model.add(tf.keras.layers.Dense(1,activation='sigmoid', name=\"output_layer\" ))\n",
        "\n",
        "\n",
        "\n",
        "model.summary()"
      ],
      "execution_count": null,
      "outputs": [
        {
          "output_type": "stream",
          "name": "stdout",
          "text": [
            "Model: \"sequential_4\"\n",
            "_________________________________________________________________\n",
            " Layer (type)                Output Shape              Param #   \n",
            "=================================================================\n",
            " hidden_layer_1 (Dense)      (None, 6918)              71788086  \n",
            "                                                                 \n",
            " output_layer (Dense)        (None, 1)                 6919      \n",
            "                                                                 \n",
            "=================================================================\n",
            "Total params: 71,795,005\n",
            "Trainable params: 71,795,005\n",
            "Non-trainable params: 0\n",
            "_________________________________________________________________\n"
          ]
        }
      ]
    },
    {
      "cell_type": "code",
      "source": [
        "print(10377*6918) #Parámetros para la primera capa\n",
        "print(71788086+6918) #Sumamos los sesgos\n",
        "print('Numero de parámetros:', model.count_params() ) #Solo se le suma el último sesgo"
      ],
      "metadata": {
        "id": "f5ag7Cfxr52y",
        "colab": {
          "base_uri": "https://localhost:8080/"
        },
        "outputId": "1e93be8a-ec5e-49d0-fd2b-5de7ecaeb93c"
      },
      "execution_count": null,
      "outputs": [
        {
          "output_type": "stream",
          "name": "stdout",
          "text": [
            "71788086\n",
            "71795004\n",
            "Numero de parámetros: 71795005\n"
          ]
        }
      ]
    },
    {
      "cell_type": "code",
      "metadata": {
        "id": "_gWCVSisk_cK",
        "colab": {
          "base_uri": "https://localhost:8080/",
          "height": 121
        },
        "outputId": "b0d471eb-a92f-46de-ac62-9f601d703f92"
      },
      "source": [
        "tf.keras.utils.plot_model(\n",
        "    model,\n",
        "    to_file=\"model.png\",\n",
        "    show_shapes=True,\n",
        "    show_dtype=False,\n",
        "    show_layer_names=True,\n",
        "    rankdir=\"LR\",\n",
        "    dpi=96,\n",
        ")"
      ],
      "execution_count": null,
      "outputs": [
        {
          "output_type": "execute_result",
          "data": {
            "image/png": "[encoded data removed]",
            "text/plain": [
              "<IPython.core.display.Image object>"
            ]
          },
          "metadata": {},
          "execution_count": 43
        }
      ]
    },
    {
      "cell_type": "code",
      "metadata": {
        "id": "gDdoPn6he4P-",
        "colab": {
          "base_uri": "https://localhost:8080/"
        },
        "outputId": "d077354c-e798-4076-893c-e20226cb9d5e"
      },
      "source": [
        "model.compile(optimizer='adam',             # stochastic gradient descent adaptativo\n",
        "                                            # https://keras.io/api/optimizers/adam/\n",
        "\n",
        "              loss='binary_crossentropy',   # función objetivo  que se busca minimizar\n",
        "                                            # https://keras.io/api/losses/\n",
        "\n",
        "              metrics=['accuracy']\n",
        "              )\n",
        "model.fit(X_train, y_train,\n",
        "          epochs=5,\n",
        "          )"
      ],
      "execution_count": null,
      "outputs": [
        {
          "output_type": "stream",
          "name": "stdout",
          "text": [
            "Epoch 1/5\n",
            "130/130 [==============================] - 3s 16ms/step - loss: 0.1227 - accuracy: 0.9441\n",
            "Epoch 2/5\n",
            "130/130 [==============================] - 2s 16ms/step - loss: 0.0054 - accuracy: 0.9983\n",
            "Epoch 3/5\n",
            "130/130 [==============================] - 2s 17ms/step - loss: 0.0012 - accuracy: 1.0000\n",
            "Epoch 4/5\n",
            "130/130 [==============================] - 2s 17ms/step - loss: 4.6524e-04 - accuracy: 1.0000\n",
            "Epoch 5/5\n",
            "130/130 [==============================] - 2s 16ms/step - loss: 2.8406e-04 - accuracy: 1.0000\n"
          ]
        },
        {
          "output_type": "execute_result",
          "data": {
            "text/plain": [
              "<keras.callbacks.History at 0x7f52417cce80>"
            ]
          },
          "metadata": {},
          "execution_count": 44
        }
      ]
    },
    {
      "cell_type": "markdown",
      "source": [
        "Predicciones!"
      ],
      "metadata": {
        "id": "FsfMyDO-e1Et"
      }
    },
    {
      "cell_type": "code",
      "source": [
        "y_pred = model.predict(X_test)\n",
        "y_pred"
      ],
      "metadata": {
        "id": "iDkC8v8LWAlK",
        "colab": {
          "base_uri": "https://localhost:8080/"
        },
        "outputId": "740af909-0ff5-4dd4-f6d9-07e11fce27f7"
      },
      "execution_count": null,
      "outputs": [
        {
          "output_type": "stream",
          "name": "stdout",
          "text": [
            "33/33 [==============================] - 0s 3ms/step\n"
          ]
        },
        {
          "output_type": "execute_result",
          "data": {
            "text/plain": [
              "array([[9.87611949e-01],\n",
              "       [9.99217629e-01],\n",
              "       [1.50071278e-09],\n",
              "       ...,\n",
              "       [2.76962191e-01],\n",
              "       [9.99873400e-01],\n",
              "       [1.39196875e-11]], dtype=float32)"
            ]
          },
          "metadata": {},
          "execution_count": 45
        }
      ]
    },
    {
      "cell_type": "code",
      "source": [
        "y_test"
      ],
      "metadata": {
        "id": "tV_fTBNOWIN7",
        "colab": {
          "base_uri": "https://localhost:8080/"
        },
        "outputId": "9125b3a8-c464-4460-fef4-e0003cba4bc1"
      },
      "execution_count": null,
      "outputs": [
        {
          "output_type": "execute_result",
          "data": {
            "text/plain": [
              "4020    1\n",
              "3561    1\n",
              "3434    0\n",
              "111     0\n",
              "1126    0\n",
              "       ..\n",
              "2078    1\n",
              "334     1\n",
              "4746    0\n",
              "2850    1\n",
              "2180    0\n",
              "Name: spam, Length: 1035, dtype: int64"
            ]
          },
          "metadata": {},
          "execution_count": 46
        }
      ]
    },
    {
      "cell_type": "code",
      "source": [
        "#Obtenemos el MSE\n",
        "mean_squared_error(y_pred,y_test)"
      ],
      "metadata": {
        "id": "HZaPH7XqWg_2",
        "colab": {
          "base_uri": "https://localhost:8080/"
        },
        "outputId": "f710d906-8cac-48ab-fa58-28c253b0af3a"
      },
      "execution_count": null,
      "outputs": [
        {
          "output_type": "execute_result",
          "data": {
            "text/plain": [
              "0.011620259266882945"
            ]
          },
          "metadata": {},
          "execution_count": 47
        }
      ]
    },
    {
      "cell_type": "code",
      "source": [
        "y_pred_aux = [1 if x>0.5 else 0 for x in y_pred]\n",
        "y_pred_aux[:10]"
      ],
      "metadata": {
        "id": "RpI_ZdZNpIQn",
        "colab": {
          "base_uri": "https://localhost:8080/"
        },
        "outputId": "74477289-377a-4a02-fa2f-1ce090cd6f6c"
      },
      "execution_count": null,
      "outputs": [
        {
          "output_type": "execute_result",
          "data": {
            "text/plain": [
              "[1, 1, 0, 0, 0, 0, 1, 0, 0, 1]"
            ]
          },
          "metadata": {},
          "execution_count": 48
        }
      ]
    },
    {
      "cell_type": "markdown",
      "source": [
        "Matriz de Confusión"
      ],
      "metadata": {
        "id": "W6C7czOhqCxT"
      }
    },
    {
      "cell_type": "code",
      "source": [
        "from sklearn.metrics import confusion_matrix, ConfusionMatrixDisplay\n",
        "import matplotlib.pyplot as plt"
      ],
      "metadata": {
        "id": "A2Ovch3EqBrL"
      },
      "execution_count": null,
      "outputs": []
    },
    {
      "cell_type": "code",
      "source": [
        "confusion_matrix = confusion_matrix(y_test,y_pred_aux)"
      ],
      "metadata": {
        "id": "Ky_WGvLSpAFd"
      },
      "execution_count": null,
      "outputs": []
    },
    {
      "cell_type": "code",
      "source": [
        "cm_display = ConfusionMatrixDisplay(confusion_matrix = confusion_matrix, display_labels = [0, 1])\n",
        "\n",
        "cm_display.plot()\n",
        "plt.show()"
      ],
      "metadata": {
        "id": "UQY9SNcjp3Zv",
        "colab": {
          "base_uri": "https://localhost:8080/",
          "height": 449
        },
        "outputId": "1d8a042e-e213-47da-fbcf-2a1e3162ad4c"
      },
      "execution_count": null,
      "outputs": [
        {
          "output_type": "display_data",
          "data": {
            "text/plain": [
              "<Figure size 640x480 with 2 Axes>"
            ],
            "image/png": "[encoded data removed]"
          },
          "metadata": {}
        }
      ]
    },
    {
      "cell_type": "code",
      "source": [
        "Accuracy = metrics.accuracy_score(y_test, y_pred_aux)\n",
        "Accuracy"
      ],
      "metadata": {
        "colab": {
          "base_uri": "https://localhost:8080/"
        },
        "id": "zDQWtgpac6b_",
        "outputId": "3a74f3a2-9d21-4898-fb49-5a563587644d"
      },
      "execution_count": null,
      "outputs": [
        {
          "output_type": "execute_result",
          "data": {
            "text/plain": [
              "0.9884057971014493"
            ]
          },
          "metadata": {},
          "execution_count": 52
        }
      ]
    },
    {
      "cell_type": "code",
      "source": [
        "#Generamos un clasificador sin entrenar , que asignará 0 a todo\n",
        "ns_probs = [0]*len(y_test)"
      ],
      "metadata": {
        "id": "bnvnCJVxuOiG"
      },
      "execution_count": null,
      "outputs": []
    },
    {
      "cell_type": "code",
      "source": [
        "ns_auc = roc_auc_score(y_test, ns_probs)\n",
        "lr_auc = roc_auc_score(y_test, y_pred)"
      ],
      "metadata": {
        "id": "A_ShSMnDuI6G"
      },
      "execution_count": null,
      "outputs": []
    },
    {
      "cell_type": "code",
      "source": [
        "# Imprimimos en pantalla\n",
        "print('Sin entrenar: ROC AUC=%.3f' % (ns_auc))\n",
        "print('Red Sequencial: ROC AUC=%.3f' % (lr_auc))\n",
        "# Calculamos las curvas ROC\n",
        "ns_fpr, ns_tpr, _ = roc_curve(y_test, ns_probs)\n",
        "lr_fpr, lr_tpr, _ = roc_curve(y_test, y_pred)\n",
        "# Pintamos las curvas ROC\n",
        "plt.plot(ns_fpr, ns_tpr, linestyle='--', label='Sin entrenar')\n",
        "plt.plot(lr_fpr, lr_tpr, marker='.', label='Red Sequencial')\n",
        "# Etiquetas de los ejes\n",
        "plt.xlabel('Tasa de Falsos Positivos')\n",
        "plt.ylabel('Tasa de Verdaderos Positivos')\n",
        "plt.legend()\n",
        "plt.show()"
      ],
      "metadata": {
        "colab": {
          "base_uri": "https://localhost:8080/",
          "height": 484
        },
        "id": "jCBP2ueEuGI4",
        "outputId": "1aede859-2a07-402c-c4dd-31dd44f6c941"
      },
      "execution_count": null,
      "outputs": [
        {
          "output_type": "stream",
          "name": "stdout",
          "text": [
            "Sin entrenar: ROC AUC=0.500\n",
            "Red Sequencial: ROC AUC=0.998\n"
          ]
        },
        {
          "output_type": "display_data",
          "data": {
            "text/plain": [
              "<Figure size 640x480 with 1 Axes>"
            ],
            "image/png": "[encoded data removed]"
          },
          "metadata": {}
        }
      ]
    },
    {
      "cell_type": "markdown",
      "source": [
        "## Segundo Caso usando BERT"
      ],
      "metadata": {
        "id": "iJvcKEFjdum2"
      }
    },
    {
      "cell_type": "code",
      "source": [
        "print(datos.shape)\n",
        "datos.head()"
      ],
      "metadata": {
        "colab": {
          "base_uri": "https://localhost:8080/",
          "height": 223
        },
        "id": "Prc1XYtfd0Fx",
        "outputId": "52d38def-a521-4677-efc0-2008beba263d"
      },
      "execution_count": null,
      "outputs": [
        {
          "output_type": "stream",
          "name": "stdout",
          "text": [
            "(5171, 3)\n"
          ]
        },
        {
          "output_type": "execute_result",
          "data": {
            "text/plain": [
              "                                                text  spam  \\\n",
              "0  Subject: enron methanol ; meter # : 988291\\r\\n...     0   \n",
              "1  Subject: hpl nom for january 9 , 2001\\r\\n( see...     0   \n",
              "2  Subject: neon retreat\\r\\nho ho ho , we ' re ar...     0   \n",
              "3  Subject: photoshop , windows , office . cheap ...     1   \n",
              "4  Subject: re : indian springs\\r\\nthis deal is t...     0   \n",
              "\n",
              "                                             text_pp  \n",
              "0  enron methanol meter follow note gave monday p...  \n",
              "1  hpl nom januari see attach file hplnol xl hpln...  \n",
              "2  neon retreat ho ho ho around wonder time year ...  \n",
              "3  photoshop window offic cheap main trend abas d...  \n",
              "4  indian spring deal book teco pvr revenu unders...  "
            ],
            "text/html": [
              "\n",
              "  <div id=\"df-e4c8faf0-5323-4678-aab0-46e12691ad0b\">\n",
              "    <div class=\"colab-df-container\">\n",
              "      <div>\n",
              "<style scoped>\n",
              "    .dataframe tbody tr th:only-of-type {\n",
              "        vertical-align: middle;\n",
              "    }\n",
              "\n",
              "    .dataframe tbody tr th {\n",
              "        vertical-align: top;\n",
              "    }\n",
              "\n",
              "    .dataframe thead th {\n",
              "        text-align: right;\n",
              "    }\n",
              "</style>\n",
              "<table border=\"1\" class=\"dataframe\">\n",
              "  <thead>\n",
              "    <tr style=\"text-align: right;\">\n",
              "      <th></th>\n",
              "      <th>text</th>\n",
              "      <th>spam</th>\n",
              "      <th>text_pp</th>\n",
              "    </tr>\n",
              "  </thead>\n",
              "  <tbody>\n",
              "    <tr>\n",
              "      <th>0</th>\n",
              "      <td>Subject: enron methanol ; meter # : 988291\\r\\n...</td>\n",
              "      <td>0</td>\n",
              "      <td>enron methanol meter follow note gave monday p...</td>\n",
              "    </tr>\n",
              "    <tr>\n",
              "      <th>1</th>\n",
              "      <td>Subject: hpl nom for january 9 , 2001\\r\\n( see...</td>\n",
              "      <td>0</td>\n",
              "      <td>hpl nom januari see attach file hplnol xl hpln...</td>\n",
              "    </tr>\n",
              "    <tr>\n",
              "      <th>2</th>\n",
              "      <td>Subject: neon retreat\\r\\nho ho ho , we ' re ar...</td>\n",
              "      <td>0</td>\n",
              "      <td>neon retreat ho ho ho around wonder time year ...</td>\n",
              "    </tr>\n",
              "    <tr>\n",
              "      <th>3</th>\n",
              "      <td>Subject: photoshop , windows , office . cheap ...</td>\n",
              "      <td>1</td>\n",
              "      <td>photoshop window offic cheap main trend abas d...</td>\n",
              "    </tr>\n",
              "    <tr>\n",
              "      <th>4</th>\n",
              "      <td>Subject: re : indian springs\\r\\nthis deal is t...</td>\n",
              "      <td>0</td>\n",
              "      <td>indian spring deal book teco pvr revenu unders...</td>\n",
              "    </tr>\n",
              "  </tbody>\n",
              "</table>\n",
              "</div>\n",
              "      <button class=\"colab-df-convert\" onclick=\"convertToInteractive('df-e4c8faf0-5323-4678-aab0-46e12691ad0b')\"\n",
              "              title=\"Convert this dataframe to an interactive table.\"\n",
              "              style=\"display:none;\">\n",
              "        \n",
              "  <svg xmlns=\"http://www.w3.org/2000/svg\" height=\"24px\"viewBox=\"0 0 24 24\"\n",
              "       width=\"24px\">\n",
              "    <path d=\"M0 0h24v24H0V0z\" fill=\"none\"/>\n",
              "    <path d=\"M18.56 5.44l.94 2.06.94-2.06 2.06-.94-2.06-.94-.94-2.06-.94 2.06-2.06.94zm-11 1L8.5 8.5l.94-2.06 2.06-.94-2.06-.94L8.5 2.5l-.94 2.06-2.06.94zm10 10l.94 2.06.94-2.06 2.06-.94-2.06-.94-.94-2.06-.94 2.06-2.06.94z\"/><path d=\"M17.41 7.96l-1.37-1.37c-.4-.4-.92-.59-1.43-.59-.52 0-1.04.2-1.43.59L10.3 9.45l-7.72 7.72c-.78.78-.78 2.05 0 2.83L4 21.41c.39.39.9.59 1.41.59.51 0 1.02-.2 1.41-.59l7.78-7.78 2.81-2.81c.8-.78.8-2.07 0-2.86zM5.41 20L4 18.59l7.72-7.72 1.47 1.35L5.41 20z\"/>\n",
              "  </svg>\n",
              "      </button>\n",
              "      \n",
              "  <style>\n",
              "    .colab-df-container {\n",
              "      display:flex;\n",
              "      flex-wrap:wrap;\n",
              "      gap: 12px;\n",
              "    }\n",
              "\n",
              "    .colab-df-convert {\n",
              "      background-color: #E8F0FE;\n",
              "      border: none;\n",
              "      border-radius: 50%;\n",
              "      cursor: pointer;\n",
              "      display: none;\n",
              "      fill: #1967D2;\n",
              "      height: 32px;\n",
              "      padding: 0 0 0 0;\n",
              "      width: 32px;\n",
              "    }\n",
              "\n",
              "    .colab-df-convert:hover {\n",
              "      background-color: #E2EBFA;\n",
              "      box-shadow: 0px 1px 2px rgba(60, 64, 67, 0.3), 0px 1px 3px 1px rgba(60, 64, 67, 0.15);\n",
              "      fill: #174EA6;\n",
              "    }\n",
              "\n",
              "    [theme=dark] .colab-df-convert {\n",
              "      background-color: #3B4455;\n",
              "      fill: #D2E3FC;\n",
              "    }\n",
              "\n",
              "    [theme=dark] .colab-df-convert:hover {\n",
              "      background-color: #434B5C;\n",
              "      box-shadow: 0px 1px 3px 1px rgba(0, 0, 0, 0.15);\n",
              "      filter: drop-shadow(0px 1px 2px rgba(0, 0, 0, 0.3));\n",
              "      fill: #FFFFFF;\n",
              "    }\n",
              "  </style>\n",
              "\n",
              "      <script>\n",
              "        const buttonEl =\n",
              "          document.querySelector('#df-e4c8faf0-5323-4678-aab0-46e12691ad0b button.colab-df-convert');\n",
              "        buttonEl.style.display =\n",
              "          google.colab.kernel.accessAllowed ? 'block' : 'none';\n",
              "\n",
              "        async function convertToInteractive(key) {\n",
              "          const element = document.querySelector('#df-e4c8faf0-5323-4678-aab0-46e12691ad0b');\n",
              "          const dataTable =\n",
              "            await google.colab.kernel.invokeFunction('convertToInteractive',\n",
              "                                                     [key], {});\n",
              "          if (!dataTable) return;\n",
              "\n",
              "          const docLinkHtml = 'Like what you see? Visit the ' +\n",
              "            '<a target=\"_blank\" href=https://colab.research.google.com/notebooks/data_table.ipynb>data table notebook</a>'\n",
              "            + ' to learn more about interactive tables.';\n",
              "          element.innerHTML = '';\n",
              "          dataTable['output_type'] = 'display_data';\n",
              "          await google.colab.output.renderOutput(dataTable, element);\n",
              "          const docLink = document.createElement('div');\n",
              "          docLink.innerHTML = docLinkHtml;\n",
              "          element.appendChild(docLink);\n",
              "        }\n",
              "      </script>\n",
              "    </div>\n",
              "  </div>\n",
              "  "
            ]
          },
          "metadata": {},
          "execution_count": 56
        }
      ]
    },
    {
      "cell_type": "code",
      "source": [
        "X = datos['text']\n",
        "y = datos['spam']"
      ],
      "metadata": {
        "id": "a7jZzGIk4dbK"
      },
      "execution_count": null,
      "outputs": []
    },
    {
      "cell_type": "code",
      "source": [
        "X_train, X_test, y_train, y_test = train_test_split(X, y, test_size=0.2, random_state=42)\n",
        "print(X_train.shape)\n",
        "print(X_test.shape)"
      ],
      "metadata": {
        "id": "JUy80R7a4Zsr",
        "colab": {
          "base_uri": "https://localhost:8080/"
        },
        "outputId": "a630beb4-34f1-4040-a7bc-e3fe1e671476"
      },
      "execution_count": null,
      "outputs": [
        {
          "output_type": "stream",
          "name": "stdout",
          "text": [
            "(4136,)\n",
            "(1035,)\n"
          ]
        }
      ]
    },
    {
      "cell_type": "markdown",
      "source": [
        "Modelo"
      ],
      "metadata": {
        "id": "yaQWjKWi0uqF"
      }
    },
    {
      "cell_type": "code",
      "source": [
        "!pip install tensorflow-text"
      ],
      "metadata": {
        "colab": {
          "base_uri": "https://localhost:8080/"
        },
        "id": "qfjeeFBueh0z",
        "outputId": "aea37982-9eab-432b-b3d5-b00a35a8d72d"
      },
      "execution_count": null,
      "outputs": [
        {
          "output_type": "stream",
          "name": "stdout",
          "text": [
            "Looking in indexes: https://pypi.org/simple, https://us-python.pkg.dev/colab-wheels/public/simple/\n",
            "Collecting tensorflow-text\n",
            "  Downloading tensorflow_text-2.12.1-cp310-cp310-manylinux_2_17_x86_64.manylinux2014_x86_64.whl (6.0 MB)\n",
            "\u001b[2K     \u001b[90m━━━━━━━━━━━━━━━━━━━━━━━━━━━━━━━━━━━━━━━━\u001b[0m \u001b[32m6.0/6.0 MB\u001b[0m \u001b[31m81.4 MB/s\u001b[0m eta \u001b[36m0:00:00\u001b[0m\n",
            "\u001b[?25hRequirement already satisfied: tensorflow-hub>=0.8.0 in /usr/local/lib/python3.10/dist-packages (from tensorflow-text) (0.13.0)\n",
            "Requirement already satisfied: tensorflow<2.13,>=2.12.0 in /usr/local/lib/python3.10/dist-packages (from tensorflow-text) (2.12.0)\n",
            "Requirement already satisfied: absl-py>=1.0.0 in /usr/local/lib/python3.10/dist-packages (from tensorflow<2.13,>=2.12.0->tensorflow-text) (1.4.0)\n",
            "Requirement already satisfied: astunparse>=1.6.0 in /usr/local/lib/python3.10/dist-packages (from tensorflow<2.13,>=2.12.0->tensorflow-text) (1.6.3)\n",
            "Requirement already satisfied: flatbuffers>=2.0 in /usr/local/lib/python3.10/dist-packages (from tensorflow<2.13,>=2.12.0->tensorflow-text) (23.3.3)\n",
            "Requirement already satisfied: gast<=0.4.0,>=0.2.1 in /usr/local/lib/python3.10/dist-packages (from tensorflow<2.13,>=2.12.0->tensorflow-text) (0.4.0)\n",
            "Requirement already satisfied: google-pasta>=0.1.1 in /usr/local/lib/python3.10/dist-packages (from tensorflow<2.13,>=2.12.0->tensorflow-text) (0.2.0)\n",
            "Requirement already satisfied: grpcio<2.0,>=1.24.3 in /usr/local/lib/python3.10/dist-packages (from tensorflow<2.13,>=2.12.0->tensorflow-text) (1.54.0)\n",
            "Requirement already satisfied: h5py>=2.9.0 in /usr/local/lib/python3.10/dist-packages (from tensorflow<2.13,>=2.12.0->tensorflow-text) (3.8.0)\n",
            "Requirement already satisfied: jax>=0.3.15 in /usr/local/lib/python3.10/dist-packages (from tensorflow<2.13,>=2.12.0->tensorflow-text) (0.4.10)\n",
            "Requirement already satisfied: keras<2.13,>=2.12.0 in /usr/local/lib/python3.10/dist-packages (from tensorflow<2.13,>=2.12.0->tensorflow-text) (2.12.0)\n",
            "Requirement already satisfied: libclang>=13.0.0 in /usr/local/lib/python3.10/dist-packages (from tensorflow<2.13,>=2.12.0->tensorflow-text) (16.0.0)\n",
            "Requirement already satisfied: numpy<1.24,>=1.22 in /usr/local/lib/python3.10/dist-packages (from tensorflow<2.13,>=2.12.0->tensorflow-text) (1.22.4)\n",
            "Requirement already satisfied: opt-einsum>=2.3.2 in /usr/local/lib/python3.10/dist-packages (from tensorflow<2.13,>=2.12.0->tensorflow-text) (3.3.0)\n",
            "Requirement already satisfied: packaging in /usr/local/lib/python3.10/dist-packages (from tensorflow<2.13,>=2.12.0->tensorflow-text) (23.1)\n",
            "Requirement already satisfied: protobuf!=4.21.0,!=4.21.1,!=4.21.2,!=4.21.3,!=4.21.4,!=4.21.5,<5.0.0dev,>=3.20.3 in /usr/local/lib/python3.10/dist-packages (from tensorflow<2.13,>=2.12.0->tensorflow-text) (3.20.3)\n",
            "Requirement already satisfied: setuptools in /usr/local/lib/python3.10/dist-packages (from tensorflow<2.13,>=2.12.0->tensorflow-text) (67.7.2)\n",
            "Requirement already satisfied: six>=1.12.0 in /usr/local/lib/python3.10/dist-packages (from tensorflow<2.13,>=2.12.0->tensorflow-text) (1.16.0)\n",
            "Requirement already satisfied: tensorboard<2.13,>=2.12 in /usr/local/lib/python3.10/dist-packages (from tensorflow<2.13,>=2.12.0->tensorflow-text) (2.12.2)\n",
            "Requirement already satisfied: tensorflow-estimator<2.13,>=2.12.0 in /usr/local/lib/python3.10/dist-packages (from tensorflow<2.13,>=2.12.0->tensorflow-text) (2.12.0)\n",
            "Requirement already satisfied: termcolor>=1.1.0 in /usr/local/lib/python3.10/dist-packages (from tensorflow<2.13,>=2.12.0->tensorflow-text) (2.3.0)\n",
            "Requirement already satisfied: typing-extensions>=3.6.6 in /usr/local/lib/python3.10/dist-packages (from tensorflow<2.13,>=2.12.0->tensorflow-text) (4.5.0)\n",
            "Requirement already satisfied: wrapt<1.15,>=1.11.0 in /usr/local/lib/python3.10/dist-packages (from tensorflow<2.13,>=2.12.0->tensorflow-text) (1.14.1)\n",
            "Requirement already satisfied: tensorflow-io-gcs-filesystem>=0.23.1 in /usr/local/lib/python3.10/dist-packages (from tensorflow<2.13,>=2.12.0->tensorflow-text) (0.32.0)\n",
            "Requirement already satisfied: wheel<1.0,>=0.23.0 in /usr/local/lib/python3.10/dist-packages (from astunparse>=1.6.0->tensorflow<2.13,>=2.12.0->tensorflow-text) (0.40.0)\n",
            "Requirement already satisfied: ml-dtypes>=0.1.0 in /usr/local/lib/python3.10/dist-packages (from jax>=0.3.15->tensorflow<2.13,>=2.12.0->tensorflow-text) (0.1.0)\n",
            "Requirement already satisfied: scipy>=1.7 in /usr/local/lib/python3.10/dist-packages (from jax>=0.3.15->tensorflow<2.13,>=2.12.0->tensorflow-text) (1.10.1)\n",
            "Requirement already satisfied: google-auth<3,>=1.6.3 in /usr/local/lib/python3.10/dist-packages (from tensorboard<2.13,>=2.12->tensorflow<2.13,>=2.12.0->tensorflow-text) (2.17.3)\n",
            "Requirement already satisfied: google-auth-oauthlib<1.1,>=0.5 in /usr/local/lib/python3.10/dist-packages (from tensorboard<2.13,>=2.12->tensorflow<2.13,>=2.12.0->tensorflow-text) (1.0.0)\n",
            "Requirement already satisfied: markdown>=2.6.8 in /usr/local/lib/python3.10/dist-packages (from tensorboard<2.13,>=2.12->tensorflow<2.13,>=2.12.0->tensorflow-text) (3.4.3)\n",
            "Requirement already satisfied: requests<3,>=2.21.0 in /usr/local/lib/python3.10/dist-packages (from tensorboard<2.13,>=2.12->tensorflow<2.13,>=2.12.0->tensorflow-text) (2.27.1)\n",
            "Requirement already satisfied: tensorboard-data-server<0.8.0,>=0.7.0 in /usr/local/lib/python3.10/dist-packages (from tensorboard<2.13,>=2.12->tensorflow<2.13,>=2.12.0->tensorflow-text) (0.7.0)\n",
            "Requirement already satisfied: tensorboard-plugin-wit>=1.6.0 in /usr/local/lib/python3.10/dist-packages (from tensorboard<2.13,>=2.12->tensorflow<2.13,>=2.12.0->tensorflow-text) (1.8.1)\n",
            "Requirement already satisfied: werkzeug>=1.0.1 in /usr/local/lib/python3.10/dist-packages (from tensorboard<2.13,>=2.12->tensorflow<2.13,>=2.12.0->tensorflow-text) (2.3.0)\n",
            "Requirement already satisfied: cachetools<6.0,>=2.0.0 in /usr/local/lib/python3.10/dist-packages (from google-auth<3,>=1.6.3->tensorboard<2.13,>=2.12->tensorflow<2.13,>=2.12.0->tensorflow-text) (5.3.0)\n",
            "Requirement already satisfied: pyasn1-modules>=0.2.1 in /usr/local/lib/python3.10/dist-packages (from google-auth<3,>=1.6.3->tensorboard<2.13,>=2.12->tensorflow<2.13,>=2.12.0->tensorflow-text) (0.3.0)\n",
            "Requirement already satisfied: rsa<5,>=3.1.4 in /usr/local/lib/python3.10/dist-packages (from google-auth<3,>=1.6.3->tensorboard<2.13,>=2.12->tensorflow<2.13,>=2.12.0->tensorflow-text) (4.9)\n",
            "Requirement already satisfied: requests-oauthlib>=0.7.0 in /usr/local/lib/python3.10/dist-packages (from google-auth-oauthlib<1.1,>=0.5->tensorboard<2.13,>=2.12->tensorflow<2.13,>=2.12.0->tensorflow-text) (1.3.1)\n",
            "Requirement already satisfied: urllib3<1.27,>=1.21.1 in /usr/local/lib/python3.10/dist-packages (from requests<3,>=2.21.0->tensorboard<2.13,>=2.12->tensorflow<2.13,>=2.12.0->tensorflow-text) (1.26.15)\n",
            "Requirement already satisfied: certifi>=2017.4.17 in /usr/local/lib/python3.10/dist-packages (from requests<3,>=2.21.0->tensorboard<2.13,>=2.12->tensorflow<2.13,>=2.12.0->tensorflow-text) (2022.12.7)\n",
            "Requirement already satisfied: charset-normalizer~=2.0.0 in /usr/local/lib/python3.10/dist-packages (from requests<3,>=2.21.0->tensorboard<2.13,>=2.12->tensorflow<2.13,>=2.12.0->tensorflow-text) (2.0.12)\n",
            "Requirement already satisfied: idna<4,>=2.5 in /usr/local/lib/python3.10/dist-packages (from requests<3,>=2.21.0->tensorboard<2.13,>=2.12->tensorflow<2.13,>=2.12.0->tensorflow-text) (3.4)\n",
            "Requirement already satisfied: MarkupSafe>=2.1.1 in /usr/local/lib/python3.10/dist-packages (from werkzeug>=1.0.1->tensorboard<2.13,>=2.12->tensorflow<2.13,>=2.12.0->tensorflow-text) (2.1.2)\n",
            "Requirement already satisfied: pyasn1<0.6.0,>=0.4.6 in /usr/local/lib/python3.10/dist-packages (from pyasn1-modules>=0.2.1->google-auth<3,>=1.6.3->tensorboard<2.13,>=2.12->tensorflow<2.13,>=2.12.0->tensorflow-text) (0.5.0)\n",
            "Requirement already satisfied: oauthlib>=3.0.0 in /usr/local/lib/python3.10/dist-packages (from requests-oauthlib>=0.7.0->google-auth-oauthlib<1.1,>=0.5->tensorboard<2.13,>=2.12->tensorflow<2.13,>=2.12.0->tensorflow-text) (3.2.2)\n",
            "Installing collected packages: tensorflow-text\n",
            "Successfully installed tensorflow-text-2.12.1\n"
          ]
        }
      ]
    },
    {
      "cell_type": "code",
      "source": [
        "import tensorflow_text as text\n",
        "import tensorflow_hub as hub"
      ],
      "metadata": {
        "id": "vZpkz9wIeS18"
      },
      "execution_count": null,
      "outputs": []
    },
    {
      "cell_type": "code",
      "source": [
        "text_inputs = tf.keras.layers.Input((), dtype=tf.string)\n",
        "\n",
        "preprocessor = hub.KerasLayer(\"https://tfhub.dev/google/universal-sentence-encoder-cmlm/multilingual-preprocess/2\")\n",
        "encoder = hub.KerasLayer(\"https://tfhub.dev/google/universal-sentence-encoder-cmlm/multilingual-base/1\")\n",
        "\n",
        "\n",
        "outputs1 = preprocessor(text_inputs)\n",
        "\n",
        "outputs2 = encoder(outputs1)\n",
        "pooled_output = outputs2[\"pooled_output\"]      # [batch_size, 768].\n",
        "sequence_output = outputs2[\"sequence_output\"]  # [batch_size, 128, 768].\n",
        "\n",
        "flatting = tf.keras.layers.Flatten()\n",
        "flatted = flatting(sequence_output)\n",
        "\n",
        "layer1 = tf.keras.layers.Dense(10, activation='relu',name=\"hidden_layer_1\")\n",
        "layer1out = layer1(flatted)\n",
        "\n",
        "layer2 = tf.keras.layers.Dense(1,activation='sigmoid', name=\"output_layer\" )\n",
        "final_output = layer2(layer1out)\n",
        "\n",
        "model = tf.keras.Model(text_inputs, final_output)\n"
      ],
      "metadata": {
        "id": "Lsyd5q4li96p"
      },
      "execution_count": null,
      "outputs": []
    },
    {
      "cell_type": "code",
      "source": [
        "model.summary()"
      ],
      "metadata": {
        "id": "zIOFKN9O3E6l",
        "colab": {
          "base_uri": "https://localhost:8080/"
        },
        "outputId": "f9d54566-9d2d-4a20-f90f-ce1f64a8e4c5"
      },
      "execution_count": null,
      "outputs": [
        {
          "output_type": "stream",
          "name": "stdout",
          "text": [
            "Model: \"model_4\"\n",
            "__________________________________________________________________________________________________\n",
            " Layer (type)                   Output Shape         Param #     Connected to                     \n",
            "==================================================================================================\n",
            " input_7 (InputLayer)           [(None,)]            0           []                               \n",
            "                                                                                                  \n",
            " keras_layer (KerasLayer)       {'input_mask': (Non  0           ['input_7[0][0]']                \n",
            "                                e, 128),                                                          \n",
            "                                 'input_type_ids':                                                \n",
            "                                (None, 128),                                                      \n",
            "                                 'input_word_ids':                                                \n",
            "                                (None, 128)}                                                      \n",
            "                                                                                                  \n",
            " keras_layer_1 (KerasLayer)     {'default': (None,   470926849   ['keras_layer[0][0]',            \n",
            "                                768),                             'keras_layer[0][1]',            \n",
            "                                 'sequence_output':               'keras_layer[0][2]']            \n",
            "                                 (None, 128, 768),                                                \n",
            "                                 'pooled_output': (                                               \n",
            "                                None, 768)}                                                       \n",
            "                                                                                                  \n",
            " flatten (Flatten)              (None, 98304)        0           ['keras_layer_1[0][2]']          \n",
            "                                                                                                  \n",
            " hidden_layer_1 (Dense)         (None, 10)           983050      ['flatten[0][0]']                \n",
            "                                                                                                  \n",
            " output_layer (Dense)           (None, 1)            11          ['hidden_layer_1[0][0]']         \n",
            "                                                                                                  \n",
            "==================================================================================================\n",
            "Total params: 471,909,910\n",
            "Trainable params: 983,061\n",
            "Non-trainable params: 470,926,849\n",
            "__________________________________________________________________________________________________\n"
          ]
        }
      ]
    },
    {
      "cell_type": "code",
      "source": [
        "tf.keras.utils.plot_model(\n",
        "    model,\n",
        "    #to_file=\"model.png\",\n",
        "    #show_shapes=True,\n",
        "    show_dtype=False,\n",
        "    show_layer_names=True,\n",
        "    rankdir=\"TD\",\n",
        "    #dpi=180,\n",
        ")"
      ],
      "metadata": {
        "id": "K-WBQ3Tt3NTB",
        "colab": {
          "base_uri": "https://localhost:8080/",
          "height": 564
        },
        "outputId": "36c7569c-270d-4c84-ee12-51188d034312"
      },
      "execution_count": null,
      "outputs": [
        {
          "output_type": "execute_result",
          "data": {
            "image/png": "[encoded data removed]",
            "text/plain": [
              "<IPython.core.display.Image object>"
            ]
          },
          "metadata": {},
          "execution_count": 104
        }
      ]
    },
    {
      "cell_type": "code",
      "source": [
        "model.compile(loss='binary_crossentropy', optimizer='adam', metrics=['accuracy'])"
      ],
      "metadata": {
        "id": "GTqIeP003WEd"
      },
      "execution_count": null,
      "outputs": []
    },
    {
      "cell_type": "code",
      "source": [
        "model.fit(\n",
        "    X_train,\n",
        "    y_train,\n",
        "    #validation_data=(X_test, y_test), # Implementarlo a veces ayuda\n",
        "    epochs=6,\n",
        "    batch_size=54\n",
        ")"
      ],
      "metadata": {
        "id": "sKgDULJs4Jpn",
        "colab": {
          "base_uri": "https://localhost:8080/"
        },
        "outputId": "a68fa0f5-2457-495a-f940-dc51ac4ca6ea"
      },
      "execution_count": null,
      "outputs": [
        {
          "output_type": "stream",
          "name": "stdout",
          "text": [
            "Epoch 1/6\n",
            "77/77 [==============================] - 68s 614ms/step - loss: 1.0150 - accuracy: 0.6707\n",
            "Epoch 2/6\n",
            "77/77 [==============================] - 46s 604ms/step - loss: 0.6758 - accuracy: 0.7084\n",
            "Epoch 3/6\n",
            "77/77 [==============================] - 47s 614ms/step - loss: 0.6641 - accuracy: 0.7084\n",
            "Epoch 4/6\n",
            "77/77 [==============================] - 47s 614ms/step - loss: 0.6538 - accuracy: 0.7084\n",
            "Epoch 5/6\n",
            "77/77 [==============================] - 47s 613ms/step - loss: 0.6451 - accuracy: 0.7084\n",
            "Epoch 6/6\n",
            "77/77 [==============================] - 48s 618ms/step - loss: 0.6376 - accuracy: 0.7084\n"
          ]
        },
        {
          "output_type": "execute_result",
          "data": {
            "text/plain": [
              "<keras.callbacks.History at 0x7f536033b070>"
            ]
          },
          "metadata": {},
          "execution_count": 64
        }
      ]
    },
    {
      "cell_type": "markdown",
      "source": [
        "Predicciones"
      ],
      "metadata": {
        "id": "0Q-QK9EdG1Ad"
      }
    },
    {
      "cell_type": "code",
      "source": [
        "y_pred = model.predict(X_test)\n",
        "y_pred"
      ],
      "metadata": {
        "id": "0C1gZZygG3OA",
        "colab": {
          "base_uri": "https://localhost:8080/"
        },
        "outputId": "e58781ac-d299-4536-9de6-c165b95568b6"
      },
      "execution_count": null,
      "outputs": [
        {
          "output_type": "stream",
          "name": "stdout",
          "text": [
            "33/33 [==============================] - 12s 344ms/step\n"
          ]
        },
        {
          "output_type": "execute_result",
          "data": {
            "text/plain": [
              "array([[3.5856066e-23],\n",
              "       [9.9999988e-01],\n",
              "       [3.5352621e-10],\n",
              "       ...,\n",
              "       [9.9999464e-01],\n",
              "       [2.1872409e-06],\n",
              "       [1.1355186e-17]], dtype=float32)"
            ]
          },
          "metadata": {},
          "execution_count": 107
        }
      ]
    },
    {
      "cell_type": "code",
      "source": [
        "y_test"
      ],
      "metadata": {
        "id": "yI5SooMkG7uE",
        "colab": {
          "base_uri": "https://localhost:8080/"
        },
        "outputId": "10098c1e-5b31-4612-cd74-ae69c943cdd9"
      },
      "execution_count": null,
      "outputs": [
        {
          "output_type": "execute_result",
          "data": {
            "text/plain": [
              "1566    0\n",
              "1988    1\n",
              "1235    0\n",
              "2868    0\n",
              "4903    0\n",
              "       ..\n",
              "1175    1\n",
              "4476    0\n",
              "4198    1\n",
              "2689    0\n",
              "2142    0\n",
              "Name: spam, Length: 1035, dtype: int64"
            ]
          },
          "metadata": {},
          "execution_count": 108
        }
      ]
    },
    {
      "cell_type": "code",
      "source": [
        "#Obtenemos el MSE\n",
        "mean_squared_error(y_pred,y_test)"
      ],
      "metadata": {
        "colab": {
          "base_uri": "https://localhost:8080/"
        },
        "outputId": "5c9fe764-4449-48d7-d731-7fe52bd5f201",
        "id": "DLfiV5z0ii4t"
      },
      "execution_count": null,
      "outputs": [
        {
          "output_type": "execute_result",
          "data": {
            "text/plain": [
              "0.018429367212909904"
            ]
          },
          "metadata": {},
          "execution_count": 109
        }
      ]
    },
    {
      "cell_type": "code",
      "source": [
        "y_pred_aux = [1 if x>0.5 else 0 for x in y_pred]\n",
        "y_pred_aux[:10]"
      ],
      "metadata": {
        "colab": {
          "base_uri": "https://localhost:8080/"
        },
        "outputId": "b4852bfa-91f3-4b12-da1d-7ef882d09738",
        "id": "l6GLDC8Yii4z"
      },
      "execution_count": null,
      "outputs": [
        {
          "output_type": "execute_result",
          "data": {
            "text/plain": [
              "[0, 1, 0, 0, 0, 0, 0, 0, 0, 0]"
            ]
          },
          "metadata": {},
          "execution_count": 110
        }
      ]
    },
    {
      "cell_type": "markdown",
      "source": [
        "Matriz de Confusión"
      ],
      "metadata": {
        "id": "jK7Es_-yii4z"
      }
    },
    {
      "cell_type": "code",
      "source": [
        "from sklearn.metrics import confusion_matrix, ConfusionMatrixDisplay\n",
        "import matplotlib.pyplot as plt"
      ],
      "metadata": {
        "id": "HZihZpYkii4z"
      },
      "execution_count": null,
      "outputs": []
    },
    {
      "cell_type": "code",
      "source": [
        "confusion_matrix = confusion_matrix(y_test,y_pred_aux)"
      ],
      "metadata": {
        "id": "gqVjA4dIii40"
      },
      "execution_count": null,
      "outputs": []
    },
    {
      "cell_type": "code",
      "source": [
        "cm_display = ConfusionMatrixDisplay(confusion_matrix = confusion_matrix, display_labels = [0, 1])\n",
        "\n",
        "cm_display.plot()\n",
        "plt.show()"
      ],
      "metadata": {
        "colab": {
          "base_uri": "https://localhost:8080/",
          "height": 449
        },
        "outputId": "d85fca8b-3085-48d6-b54b-2e1dfb671558",
        "id": "j5-aJa9Bii40"
      },
      "execution_count": null,
      "outputs": [
        {
          "output_type": "display_data",
          "data": {
            "text/plain": [
              "<Figure size 640x480 with 2 Axes>"
            ],
            "image/png": "[encoded data removed]"
          },
          "metadata": {}
        }
      ]
    },
    {
      "cell_type": "code",
      "source": [
        "Accuracy = metrics.accuracy_score(y_test, y_pred_aux)\n",
        "Accuracy"
      ],
      "metadata": {
        "colab": {
          "base_uri": "https://localhost:8080/"
        },
        "outputId": "5afbd7b0-07c4-44e2-a9ba-5e52511b29a7",
        "id": "VGp7-4k5ii40"
      },
      "execution_count": null,
      "outputs": [
        {
          "output_type": "execute_result",
          "data": {
            "text/plain": [
              "0.9777777777777777"
            ]
          },
          "metadata": {},
          "execution_count": 114
        }
      ]
    },
    {
      "cell_type": "code",
      "source": [
        "#Generamos un clasificador sin entrenar , que asignará 0 a todo\n",
        "ns_probs = [0]*len(y_test)"
      ],
      "metadata": {
        "id": "wcjR8r89ii40"
      },
      "execution_count": null,
      "outputs": []
    },
    {
      "cell_type": "code",
      "source": [
        "ns_auc = roc_auc_score(y_test, ns_probs)\n",
        "lr_auc = roc_auc_score(y_test, y_pred)"
      ],
      "metadata": {
        "id": "DNB8a-egii40"
      },
      "execution_count": null,
      "outputs": []
    },
    {
      "cell_type": "code",
      "source": [
        "# Imprimimos en pantalla\n",
        "print('Sin entrenar: ROC AUC=%.3f' % (ns_auc))\n",
        "print('Red Sequencial: ROC AUC=%.3f' % (lr_auc))\n",
        "# Calculamos las curvas ROC\n",
        "ns_fpr, ns_tpr, _ = roc_curve(y_test, ns_probs)\n",
        "lr_fpr, lr_tpr, _ = roc_curve(y_test, y_pred)\n",
        "# Pintamos las curvas ROC\n",
        "plt.plot(ns_fpr, ns_tpr, linestyle='--', label='Sin entrenar')\n",
        "plt.plot(lr_fpr, lr_tpr, marker='.', label='Red Sequencial')\n",
        "# Etiquetas de los ejes\n",
        "plt.xlabel('Tasa de Falsos Positivos')\n",
        "plt.ylabel('Tasa de Verdaderos Positivos')\n",
        "plt.legend()\n",
        "plt.show()"
      ],
      "metadata": {
        "colab": {
          "base_uri": "https://localhost:8080/",
          "height": 484
        },
        "outputId": "c4d2c51f-b444-4f4d-c385-c31d127455e7",
        "id": "udukwSzUii41"
      },
      "execution_count": null,
      "outputs": [
        {
          "output_type": "stream",
          "name": "stdout",
          "text": [
            "Sin entrenar: ROC AUC=0.500\n",
            "Red Sequencial: ROC AUC=0.995\n"
          ]
        },
        {
          "output_type": "display_data",
          "data": {
            "text/plain": [
              "<Figure size 640x480 with 1 Axes>"
            ],
            "image/png": "[encoded data removed]"
          },
          "metadata": {}
        }
      ]
    },
    {
      "cell_type": "markdown",
      "metadata": {
        "id": "0RxZCrHva61q"
      },
      "source": [
        "# Referencia:\n",
        "\n",
        "1. Keras vs. tf.keras: What’s the difference in TensorFlow 2.0? [Internet]. PyImageSearch. 2019 [citado 20 de julio de 2021]. Disponible en: https://www.pyimagesearch.com/2019/10/21/keras-vs-tf-keras-whats-the-difference-in-tensorflow-2-0/\n",
        "\n",
        "1. Krishnan S. How to determine the number of layers and neurons in the hidden layer? [Internet]. Geek Culture. 2021 [citado 25 de abril de 2022]. Disponible en: https://medium.com/geekculture/introduction-to-neural-network-2f8b8221fbd3\n",
        "\n"
      ]
    }
  ]
}